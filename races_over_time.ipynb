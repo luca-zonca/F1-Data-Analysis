{
 "cells": [
  {
   "cell_type": "markdown",
   "id": "3c250f42",
   "metadata": {},
   "source": [
    "## Races over time\n",
    "\n",
    "This section aims to explore the number of Formula 1 races held each year and track the trend over time. By visualizing this trend, we can gain insights into how the frequency of races has changed and identify any notable patterns or shifts in the F1 calendar.\n",
    "\n",
    "To begin this analysis, I will first import the necessary libraries and load the cleaned data from the pickle file created during the data wrangling process."
   ]
  },
  {
   "cell_type": "code",
   "execution_count": 1,
   "id": "91bd7739",
   "metadata": {},
   "outputs": [],
   "source": [
    "# Libraries\n",
    "import pandas as pd\n",
    "import pickle\n",
    "from util import quality_check\n",
    "# plotly\n",
    "import plotly.express as px\n",
    "import plotly.graph_objects as go\n",
    "from plotly.subplots import make_subplots\n",
    "import plotly.io as pio\n",
    "from IPython.display import Image, display\n",
    "image_path = 'C:\\\\Users\\\\zonca\\\\Desktop\\\\Course\\\\F1\\\\plots\\\\'\n",
    "\n",
    "# Load the database\n",
    "with open('cleaned_data.pkl', 'rb') as f:\n",
    "    data = pickle.load(f)\n",
    "\n",
    "database = data['database']\n",
    "races = database['races']\n",
    "circuits = database['circuits']\n",
    "countries_continents = database['countries_continents']"
   ]
  },
  {
   "cell_type": "markdown",
   "id": "d5e146c2",
   "metadata": {},
   "source": [
    "Let's start by focusing on the `races` dataframe."
   ]
  },
  {
   "cell_type": "code",
   "execution_count": 2,
   "id": "d8de6238",
   "metadata": {},
   "outputs": [
    {
     "data": {
      "text/html": [
       "<div>\n",
       "<style scoped>\n",
       "    .dataframe tbody tr th:only-of-type {\n",
       "        vertical-align: middle;\n",
       "    }\n",
       "\n",
       "    .dataframe tbody tr th {\n",
       "        vertical-align: top;\n",
       "    }\n",
       "\n",
       "    .dataframe thead th {\n",
       "        text-align: right;\n",
       "    }\n",
       "</style>\n",
       "<table border=\"1\" class=\"dataframe\">\n",
       "  <thead>\n",
       "    <tr style=\"text-align: right;\">\n",
       "      <th></th>\n",
       "      <th>id</th>\n",
       "      <th>year</th>\n",
       "      <th>round</th>\n",
       "      <th>grandPrixId</th>\n",
       "      <th>officialName</th>\n",
       "      <th>qualifyingFormat</th>\n",
       "      <th>sprintQualifyingFormat</th>\n",
       "      <th>circuitId</th>\n",
       "      <th>circuitType</th>\n",
       "      <th>courseLength</th>\n",
       "      <th>laps</th>\n",
       "      <th>distance</th>\n",
       "      <th>scheduledLaps</th>\n",
       "      <th>scheduledDistance</th>\n",
       "    </tr>\n",
       "  </thead>\n",
       "  <tbody>\n",
       "    <tr>\n",
       "      <th>0</th>\n",
       "      <td>1</td>\n",
       "      <td>1950</td>\n",
       "      <td>1</td>\n",
       "      <td>great-britain</td>\n",
       "      <td>1950 RAC British Grand Prix</td>\n",
       "      <td>TWO_SESSION</td>\n",
       "      <td>NaN</td>\n",
       "      <td>silverstone</td>\n",
       "      <td>RACE</td>\n",
       "      <td>4.649</td>\n",
       "      <td>70</td>\n",
       "      <td>325.430</td>\n",
       "      <td>NaN</td>\n",
       "      <td>NaN</td>\n",
       "    </tr>\n",
       "    <tr>\n",
       "      <th>1</th>\n",
       "      <td>2</td>\n",
       "      <td>1950</td>\n",
       "      <td>2</td>\n",
       "      <td>monaco</td>\n",
       "      <td>Grand Prix de Monaco 1950</td>\n",
       "      <td>TWO_SESSION</td>\n",
       "      <td>NaN</td>\n",
       "      <td>monaco</td>\n",
       "      <td>STREET</td>\n",
       "      <td>3.181</td>\n",
       "      <td>100</td>\n",
       "      <td>318.100</td>\n",
       "      <td>NaN</td>\n",
       "      <td>NaN</td>\n",
       "    </tr>\n",
       "    <tr>\n",
       "      <th>2</th>\n",
       "      <td>3</td>\n",
       "      <td>1950</td>\n",
       "      <td>3</td>\n",
       "      <td>indianapolis</td>\n",
       "      <td>1950 Indianapolis 500</td>\n",
       "      <td>FOUR_LAPS</td>\n",
       "      <td>NaN</td>\n",
       "      <td>indianapolis</td>\n",
       "      <td>RACE</td>\n",
       "      <td>4.023</td>\n",
       "      <td>138</td>\n",
       "      <td>555.224</td>\n",
       "      <td>200.0</td>\n",
       "      <td>804.672</td>\n",
       "    </tr>\n",
       "    <tr>\n",
       "      <th>3</th>\n",
       "      <td>4</td>\n",
       "      <td>1950</td>\n",
       "      <td>4</td>\n",
       "      <td>switzerland</td>\n",
       "      <td>Grosser Preis der Schweiz 1950</td>\n",
       "      <td>TWO_SESSION</td>\n",
       "      <td>NaN</td>\n",
       "      <td>bremgarten</td>\n",
       "      <td>ROAD</td>\n",
       "      <td>7.280</td>\n",
       "      <td>42</td>\n",
       "      <td>305.760</td>\n",
       "      <td>NaN</td>\n",
       "      <td>NaN</td>\n",
       "    </tr>\n",
       "    <tr>\n",
       "      <th>4</th>\n",
       "      <td>5</td>\n",
       "      <td>1950</td>\n",
       "      <td>5</td>\n",
       "      <td>belgium</td>\n",
       "      <td>1950 Belgian Grand Prix</td>\n",
       "      <td>TWO_SESSION</td>\n",
       "      <td>NaN</td>\n",
       "      <td>spa-francorchamps</td>\n",
       "      <td>ROAD</td>\n",
       "      <td>14.120</td>\n",
       "      <td>35</td>\n",
       "      <td>494.200</td>\n",
       "      <td>NaN</td>\n",
       "      <td>NaN</td>\n",
       "    </tr>\n",
       "  </tbody>\n",
       "</table>\n",
       "</div>"
      ],
      "text/plain": [
       "   id  year  round    grandPrixId                    officialName  \\\n",
       "0   1  1950      1  great-britain     1950 RAC British Grand Prix   \n",
       "1   2  1950      2         monaco       Grand Prix de Monaco 1950   \n",
       "2   3  1950      3   indianapolis           1950 Indianapolis 500   \n",
       "3   4  1950      4    switzerland  Grosser Preis der Schweiz 1950   \n",
       "4   5  1950      5        belgium         1950 Belgian Grand Prix   \n",
       "\n",
       "  qualifyingFormat sprintQualifyingFormat          circuitId circuitType  \\\n",
       "0      TWO_SESSION                    NaN        silverstone        RACE   \n",
       "1      TWO_SESSION                    NaN             monaco      STREET   \n",
       "2        FOUR_LAPS                    NaN       indianapolis        RACE   \n",
       "3      TWO_SESSION                    NaN         bremgarten        ROAD   \n",
       "4      TWO_SESSION                    NaN  spa-francorchamps        ROAD   \n",
       "\n",
       "   courseLength  laps  distance  scheduledLaps  scheduledDistance  \n",
       "0         4.649    70   325.430            NaN                NaN  \n",
       "1         3.181   100   318.100            NaN                NaN  \n",
       "2         4.023   138   555.224          200.0            804.672  \n",
       "3         7.280    42   305.760            NaN                NaN  \n",
       "4        14.120    35   494.200            NaN                NaN  "
      ]
     },
     "metadata": {},
     "output_type": "display_data"
    },
    {
     "name": "stdout",
     "output_type": "stream",
     "text": [
      "DataFrame Quality Check Summary\n",
      "----------------------------------------\n",
      "Number of rows: 1125\n",
      "Number of columns: 14\n",
      "----------------------------------------\n",
      "Null values:\n",
      "sprintQualifyingFormat    1113\n",
      "scheduledLaps             1049\n",
      "scheduledDistance         1049\n",
      "dtype: int64\n"
     ]
    }
   ],
   "source": [
    "display(races.head())\n",
    "quality_check(races)"
   ]
  },
  {
   "cell_type": "markdown",
   "id": "3e231e50",
   "metadata": {},
   "source": [
    "It appears that a significant number of columns contain null values. However, these missing values are limited to columns related to the sprint qualifying format (which was introduced only in 2021), and the scheduled laps and distance. As these columns do not affect the race count, they will not impact the analysis. Therefore, I will proceed with grouping the data by year to count the number of races held each year and visualize the trend with a plot."
   ]
  },
  {
   "cell_type": "code",
   "execution_count": 6,
   "id": "0f917a26",
   "metadata": {},
   "outputs": [
    {
     "data": {
      "application/vnd.plotly.v1+json": {
       "config": {
        "plotlyServerURL": "https://plot.ly"
       },
       "data": [
        {
         "hoverlabel": {
          "bgcolor": "rgba(255, 255, 255, 1)",
          "font": {
           "size": 12
          }
         },
         "hovertemplate": "<b>Year</b>: %{x}<br><b>Number of races</b>: %{y}<br>",
         "legendgroup": "",
         "line": {
          "color": "#FF1E00",
          "dash": "solid"
         },
         "marker": {
          "symbol": "circle"
         },
         "mode": "lines",
         "name": "",
         "orientation": "v",
         "showlegend": false,
         "type": "scatter",
         "x": [
          1950,
          1951,
          1952,
          1953,
          1954,
          1955,
          1956,
          1957,
          1958,
          1959,
          1960,
          1961,
          1962,
          1963,
          1964,
          1965,
          1966,
          1967,
          1968,
          1969,
          1970,
          1971,
          1972,
          1973,
          1974,
          1975,
          1976,
          1977,
          1978,
          1979,
          1980,
          1981,
          1982,
          1983,
          1984,
          1985,
          1986,
          1987,
          1988,
          1989,
          1990,
          1991,
          1992,
          1993,
          1994,
          1995,
          1996,
          1997,
          1998,
          1999,
          2000,
          2001,
          2002,
          2003,
          2004,
          2005,
          2006,
          2007,
          2008,
          2009,
          2010,
          2011,
          2012,
          2013,
          2014,
          2015,
          2016,
          2017,
          2018,
          2019,
          2020,
          2021,
          2022,
          2023,
          2024
         ],
         "xaxis": "x",
         "y": [
          7,
          8,
          8,
          9,
          9,
          7,
          8,
          8,
          11,
          9,
          10,
          8,
          9,
          10,
          10,
          10,
          9,
          11,
          12,
          11,
          13,
          11,
          12,
          15,
          15,
          14,
          16,
          17,
          16,
          15,
          14,
          15,
          16,
          15,
          16,
          16,
          16,
          16,
          16,
          16,
          16,
          16,
          16,
          16,
          16,
          17,
          16,
          17,
          16,
          16,
          17,
          17,
          17,
          16,
          18,
          19,
          18,
          17,
          18,
          17,
          19,
          19,
          20,
          19,
          19,
          19,
          21,
          20,
          21,
          21,
          17,
          22,
          22,
          22,
          24
         ],
         "yaxis": "y"
        }
       ],
       "layout": {
        "height": 500,
        "legend": {
         "tracegroupgap": 0
        },
        "margin": {
         "t": 60
        },
        "template": {
         "data": {
          "bar": [
           {
            "error_x": {
             "color": "#2a3f5f"
            },
            "error_y": {
             "color": "#2a3f5f"
            },
            "marker": {
             "line": {
              "color": "#E5ECF6",
              "width": 0.5
             },
             "pattern": {
              "fillmode": "overlay",
              "size": 10,
              "solidity": 0.2
             }
            },
            "type": "bar"
           }
          ],
          "barpolar": [
           {
            "marker": {
             "line": {
              "color": "#E5ECF6",
              "width": 0.5
             },
             "pattern": {
              "fillmode": "overlay",
              "size": 10,
              "solidity": 0.2
             }
            },
            "type": "barpolar"
           }
          ],
          "carpet": [
           {
            "aaxis": {
             "endlinecolor": "#2a3f5f",
             "gridcolor": "white",
             "linecolor": "white",
             "minorgridcolor": "white",
             "startlinecolor": "#2a3f5f"
            },
            "baxis": {
             "endlinecolor": "#2a3f5f",
             "gridcolor": "white",
             "linecolor": "white",
             "minorgridcolor": "white",
             "startlinecolor": "#2a3f5f"
            },
            "type": "carpet"
           }
          ],
          "choropleth": [
           {
            "colorbar": {
             "outlinewidth": 0,
             "ticks": ""
            },
            "type": "choropleth"
           }
          ],
          "contour": [
           {
            "colorbar": {
             "outlinewidth": 0,
             "ticks": ""
            },
            "colorscale": [
             [
              0,
              "#0d0887"
             ],
             [
              0.1111111111111111,
              "#46039f"
             ],
             [
              0.2222222222222222,
              "#7201a8"
             ],
             [
              0.3333333333333333,
              "#9c179e"
             ],
             [
              0.4444444444444444,
              "#bd3786"
             ],
             [
              0.5555555555555556,
              "#d8576b"
             ],
             [
              0.6666666666666666,
              "#ed7953"
             ],
             [
              0.7777777777777778,
              "#fb9f3a"
             ],
             [
              0.8888888888888888,
              "#fdca26"
             ],
             [
              1,
              "#f0f921"
             ]
            ],
            "type": "contour"
           }
          ],
          "contourcarpet": [
           {
            "colorbar": {
             "outlinewidth": 0,
             "ticks": ""
            },
            "type": "contourcarpet"
           }
          ],
          "heatmap": [
           {
            "colorbar": {
             "outlinewidth": 0,
             "ticks": ""
            },
            "colorscale": [
             [
              0,
              "#0d0887"
             ],
             [
              0.1111111111111111,
              "#46039f"
             ],
             [
              0.2222222222222222,
              "#7201a8"
             ],
             [
              0.3333333333333333,
              "#9c179e"
             ],
             [
              0.4444444444444444,
              "#bd3786"
             ],
             [
              0.5555555555555556,
              "#d8576b"
             ],
             [
              0.6666666666666666,
              "#ed7953"
             ],
             [
              0.7777777777777778,
              "#fb9f3a"
             ],
             [
              0.8888888888888888,
              "#fdca26"
             ],
             [
              1,
              "#f0f921"
             ]
            ],
            "type": "heatmap"
           }
          ],
          "heatmapgl": [
           {
            "colorbar": {
             "outlinewidth": 0,
             "ticks": ""
            },
            "colorscale": [
             [
              0,
              "#0d0887"
             ],
             [
              0.1111111111111111,
              "#46039f"
             ],
             [
              0.2222222222222222,
              "#7201a8"
             ],
             [
              0.3333333333333333,
              "#9c179e"
             ],
             [
              0.4444444444444444,
              "#bd3786"
             ],
             [
              0.5555555555555556,
              "#d8576b"
             ],
             [
              0.6666666666666666,
              "#ed7953"
             ],
             [
              0.7777777777777778,
              "#fb9f3a"
             ],
             [
              0.8888888888888888,
              "#fdca26"
             ],
             [
              1,
              "#f0f921"
             ]
            ],
            "type": "heatmapgl"
           }
          ],
          "histogram": [
           {
            "marker": {
             "pattern": {
              "fillmode": "overlay",
              "size": 10,
              "solidity": 0.2
             }
            },
            "type": "histogram"
           }
          ],
          "histogram2d": [
           {
            "colorbar": {
             "outlinewidth": 0,
             "ticks": ""
            },
            "colorscale": [
             [
              0,
              "#0d0887"
             ],
             [
              0.1111111111111111,
              "#46039f"
             ],
             [
              0.2222222222222222,
              "#7201a8"
             ],
             [
              0.3333333333333333,
              "#9c179e"
             ],
             [
              0.4444444444444444,
              "#bd3786"
             ],
             [
              0.5555555555555556,
              "#d8576b"
             ],
             [
              0.6666666666666666,
              "#ed7953"
             ],
             [
              0.7777777777777778,
              "#fb9f3a"
             ],
             [
              0.8888888888888888,
              "#fdca26"
             ],
             [
              1,
              "#f0f921"
             ]
            ],
            "type": "histogram2d"
           }
          ],
          "histogram2dcontour": [
           {
            "colorbar": {
             "outlinewidth": 0,
             "ticks": ""
            },
            "colorscale": [
             [
              0,
              "#0d0887"
             ],
             [
              0.1111111111111111,
              "#46039f"
             ],
             [
              0.2222222222222222,
              "#7201a8"
             ],
             [
              0.3333333333333333,
              "#9c179e"
             ],
             [
              0.4444444444444444,
              "#bd3786"
             ],
             [
              0.5555555555555556,
              "#d8576b"
             ],
             [
              0.6666666666666666,
              "#ed7953"
             ],
             [
              0.7777777777777778,
              "#fb9f3a"
             ],
             [
              0.8888888888888888,
              "#fdca26"
             ],
             [
              1,
              "#f0f921"
             ]
            ],
            "type": "histogram2dcontour"
           }
          ],
          "mesh3d": [
           {
            "colorbar": {
             "outlinewidth": 0,
             "ticks": ""
            },
            "type": "mesh3d"
           }
          ],
          "parcoords": [
           {
            "line": {
             "colorbar": {
              "outlinewidth": 0,
              "ticks": ""
             }
            },
            "type": "parcoords"
           }
          ],
          "pie": [
           {
            "automargin": true,
            "type": "pie"
           }
          ],
          "scatter": [
           {
            "fillpattern": {
             "fillmode": "overlay",
             "size": 10,
             "solidity": 0.2
            },
            "type": "scatter"
           }
          ],
          "scatter3d": [
           {
            "line": {
             "colorbar": {
              "outlinewidth": 0,
              "ticks": ""
             }
            },
            "marker": {
             "colorbar": {
              "outlinewidth": 0,
              "ticks": ""
             }
            },
            "type": "scatter3d"
           }
          ],
          "scattercarpet": [
           {
            "marker": {
             "colorbar": {
              "outlinewidth": 0,
              "ticks": ""
             }
            },
            "type": "scattercarpet"
           }
          ],
          "scattergeo": [
           {
            "marker": {
             "colorbar": {
              "outlinewidth": 0,
              "ticks": ""
             }
            },
            "type": "scattergeo"
           }
          ],
          "scattergl": [
           {
            "marker": {
             "colorbar": {
              "outlinewidth": 0,
              "ticks": ""
             }
            },
            "type": "scattergl"
           }
          ],
          "scattermapbox": [
           {
            "marker": {
             "colorbar": {
              "outlinewidth": 0,
              "ticks": ""
             }
            },
            "type": "scattermapbox"
           }
          ],
          "scatterpolar": [
           {
            "marker": {
             "colorbar": {
              "outlinewidth": 0,
              "ticks": ""
             }
            },
            "type": "scatterpolar"
           }
          ],
          "scatterpolargl": [
           {
            "marker": {
             "colorbar": {
              "outlinewidth": 0,
              "ticks": ""
             }
            },
            "type": "scatterpolargl"
           }
          ],
          "scatterternary": [
           {
            "marker": {
             "colorbar": {
              "outlinewidth": 0,
              "ticks": ""
             }
            },
            "type": "scatterternary"
           }
          ],
          "surface": [
           {
            "colorbar": {
             "outlinewidth": 0,
             "ticks": ""
            },
            "colorscale": [
             [
              0,
              "#0d0887"
             ],
             [
              0.1111111111111111,
              "#46039f"
             ],
             [
              0.2222222222222222,
              "#7201a8"
             ],
             [
              0.3333333333333333,
              "#9c179e"
             ],
             [
              0.4444444444444444,
              "#bd3786"
             ],
             [
              0.5555555555555556,
              "#d8576b"
             ],
             [
              0.6666666666666666,
              "#ed7953"
             ],
             [
              0.7777777777777778,
              "#fb9f3a"
             ],
             [
              0.8888888888888888,
              "#fdca26"
             ],
             [
              1,
              "#f0f921"
             ]
            ],
            "type": "surface"
           }
          ],
          "table": [
           {
            "cells": {
             "fill": {
              "color": "#EBF0F8"
             },
             "line": {
              "color": "white"
             }
            },
            "header": {
             "fill": {
              "color": "#C8D4E3"
             },
             "line": {
              "color": "white"
             }
            },
            "type": "table"
           }
          ]
         },
         "layout": {
          "annotationdefaults": {
           "arrowcolor": "#2a3f5f",
           "arrowhead": 0,
           "arrowwidth": 1
          },
          "autotypenumbers": "strict",
          "coloraxis": {
           "colorbar": {
            "outlinewidth": 0,
            "ticks": ""
           }
          },
          "colorscale": {
           "diverging": [
            [
             0,
             "#8e0152"
            ],
            [
             0.1,
             "#c51b7d"
            ],
            [
             0.2,
             "#de77ae"
            ],
            [
             0.3,
             "#f1b6da"
            ],
            [
             0.4,
             "#fde0ef"
            ],
            [
             0.5,
             "#f7f7f7"
            ],
            [
             0.6,
             "#e6f5d0"
            ],
            [
             0.7,
             "#b8e186"
            ],
            [
             0.8,
             "#7fbc41"
            ],
            [
             0.9,
             "#4d9221"
            ],
            [
             1,
             "#276419"
            ]
           ],
           "sequential": [
            [
             0,
             "#0d0887"
            ],
            [
             0.1111111111111111,
             "#46039f"
            ],
            [
             0.2222222222222222,
             "#7201a8"
            ],
            [
             0.3333333333333333,
             "#9c179e"
            ],
            [
             0.4444444444444444,
             "#bd3786"
            ],
            [
             0.5555555555555556,
             "#d8576b"
            ],
            [
             0.6666666666666666,
             "#ed7953"
            ],
            [
             0.7777777777777778,
             "#fb9f3a"
            ],
            [
             0.8888888888888888,
             "#fdca26"
            ],
            [
             1,
             "#f0f921"
            ]
           ],
           "sequentialminus": [
            [
             0,
             "#0d0887"
            ],
            [
             0.1111111111111111,
             "#46039f"
            ],
            [
             0.2222222222222222,
             "#7201a8"
            ],
            [
             0.3333333333333333,
             "#9c179e"
            ],
            [
             0.4444444444444444,
             "#bd3786"
            ],
            [
             0.5555555555555556,
             "#d8576b"
            ],
            [
             0.6666666666666666,
             "#ed7953"
            ],
            [
             0.7777777777777778,
             "#fb9f3a"
            ],
            [
             0.8888888888888888,
             "#fdca26"
            ],
            [
             1,
             "#f0f921"
            ]
           ]
          },
          "colorway": [
           "#636efa",
           "#EF553B",
           "#00cc96",
           "#ab63fa",
           "#FFA15A",
           "#19d3f3",
           "#FF6692",
           "#B6E880",
           "#FF97FF",
           "#FECB52"
          ],
          "font": {
           "color": "#2a3f5f"
          },
          "geo": {
           "bgcolor": "white",
           "lakecolor": "white",
           "landcolor": "#E5ECF6",
           "showlakes": true,
           "showland": true,
           "subunitcolor": "white"
          },
          "hoverlabel": {
           "align": "left"
          },
          "hovermode": "closest",
          "mapbox": {
           "style": "light"
          },
          "paper_bgcolor": "white",
          "plot_bgcolor": "#E5ECF6",
          "polar": {
           "angularaxis": {
            "gridcolor": "white",
            "linecolor": "white",
            "ticks": ""
           },
           "bgcolor": "#E5ECF6",
           "radialaxis": {
            "gridcolor": "white",
            "linecolor": "white",
            "ticks": ""
           }
          },
          "scene": {
           "xaxis": {
            "backgroundcolor": "#E5ECF6",
            "gridcolor": "white",
            "gridwidth": 2,
            "linecolor": "white",
            "showbackground": true,
            "ticks": "",
            "zerolinecolor": "white"
           },
           "yaxis": {
            "backgroundcolor": "#E5ECF6",
            "gridcolor": "white",
            "gridwidth": 2,
            "linecolor": "white",
            "showbackground": true,
            "ticks": "",
            "zerolinecolor": "white"
           },
           "zaxis": {
            "backgroundcolor": "#E5ECF6",
            "gridcolor": "white",
            "gridwidth": 2,
            "linecolor": "white",
            "showbackground": true,
            "ticks": "",
            "zerolinecolor": "white"
           }
          },
          "shapedefaults": {
           "line": {
            "color": "#2a3f5f"
           }
          },
          "ternary": {
           "aaxis": {
            "gridcolor": "white",
            "linecolor": "white",
            "ticks": ""
           },
           "baxis": {
            "gridcolor": "white",
            "linecolor": "white",
            "ticks": ""
           },
           "bgcolor": "#E5ECF6",
           "caxis": {
            "gridcolor": "white",
            "linecolor": "white",
            "ticks": ""
           }
          },
          "title": {
           "x": 0.05
          },
          "xaxis": {
           "automargin": true,
           "gridcolor": "white",
           "linecolor": "white",
           "ticks": "",
           "title": {
            "standoff": 15
           },
           "zerolinecolor": "white",
           "zerolinewidth": 2
          },
          "yaxis": {
           "automargin": true,
           "gridcolor": "white",
           "linecolor": "white",
           "ticks": "",
           "title": {
            "standoff": 15
           },
           "zerolinecolor": "white",
           "zerolinewidth": 2
          }
         }
        },
        "title": {
         "font": {
          "size": 20
         },
         "text": "Number of F1 Races Over the Years",
         "x": 0.5
        },
        "width": 1500,
        "xaxis": {
         "anchor": "y",
         "domain": [
          0,
          1
         ],
         "dtick": 5,
         "range": [
          1950,
          2025
         ],
         "title": {
          "text": "Year"
         }
        },
        "yaxis": {
         "anchor": "x",
         "domain": [
          0,
          1
         ],
         "dtick": 4,
         "tickmode": "linear",
         "title": {
          "text": "Number of Races"
         }
        }
       }
      }
     },
     "metadata": {},
     "output_type": "display_data"
    },
    {
     "data": {
      "image/png": "[encoded data removed]",
      "text/plain": [
       "<IPython.core.display.Image object>"
      ]
     },
     "metadata": {},
     "output_type": "display_data"
    }
   ],
   "source": [
    "races_per_year = races.groupby('year').size().reset_index(name='number of races')\n",
    "\n",
    "races_per_year_fig = px.line(\n",
    "        data_frame=races_per_year,\n",
    "        x='year',\n",
    "        y='number of races',\n",
    "        labels={'year':'Year', 'number of races':'Number of Races'},\n",
    "        height=500,\n",
    "        width=1500)\n",
    "\n",
    "races_per_year_fig.update_traces(\n",
    "        line=dict(color='#FF1E00'),\n",
    "        hovertemplate='<b>Year</b>: %{x}<br>' +\n",
    "                '<b>Number of races</b>: %{y}<br>',\n",
    "        hoverlabel=dict(\n",
    "        font=dict(size=12),\n",
    "        bgcolor='rgba(255, 255, 255, 1)'\n",
    "        ))\n",
    "\n",
    "races_per_year_fig.update_layout(\n",
    "        title=dict(\n",
    "                text='Number of F1 Races Over the Years',\n",
    "                x=0.5,\n",
    "                font=dict(size=20)\n",
    "        ),\n",
    "        xaxis=dict(\n",
    "                dtick=5,\n",
    "                range=[races_per_year['year'].min(), races_per_year['year'].max() + 1]\n",
    "        ),\n",
    "        yaxis=dict(\n",
    "                tickmode='linear',\n",
    "                dtick=4\n",
    "        ))\n",
    "\n",
    "races_per_year_fig.show()\n",
    "\n",
    "pio.write_image(races_per_year_fig, image_path+'races_per_year.png', width=1500, height=500)\n",
    "display(Image(filename=image_path+'races_per_year.png'))"
   ]
  },
  {
   "cell_type": "markdown",
   "id": "911d2270",
   "metadata": {},
   "source": [
    "The data reveals a general upward trend over the years.\n",
    "\n",
    "In the 1970s, in particular, the calendar expanded significantly, driven by the sport's growing global popularity and the increasing number of available circuits. However, between 1978 and 1980, a noticeable decline in the number of races occurred, followed by a plateau with minor fluctuations of 1-2 races per year until 2003. This decline and the subsequent plateau were influenced by the economic constraints of the early 80s, including the aftermath of the oil crisis, which impacted financial resources and logistical capabilities. During this time, the sport faced challenges such as a limited number of suitable circuits and the complexities of organizing international events, which led to the introduction of tighter regulations focused on safety and cost control.\n",
    "\n",
    "The early 2000s marked a resurgence in the number of races, driven by the commercialization of the sport and the introduction of new Grand Prix events in emerging markets. This upward trend accelerated particularly after 2020, driven in part by the release of the Netflix series *Drive to Survive* in 2019. The post-2020 period reflects Formula 1's strategic efforts to adapt to new audiences while capitalizing on the increased exposure and broadcasting opportunities. In response to the growing global demand and heightened interest from viewers, the sport has expanded its calendar accordingly, reaching a record-breaking 24 races per year in 2024.\n",
    "\n",
    "Interestingly, the sharp rise after 2020 followed a significant drop in that year (2020), primarily due to the global COVID-19 pandemic, which led to widespread cancellations and postponements as a result of travel restrictions and health concerns. The COVID-19 pandemic is a notable example of how Formula 1's racing calendar has been influenced by external factors throughout its history, whether political or environmental:\n",
    "- In 1976, the Argentinian Grand Prix was canceled due to political unrest in the country;\n",
    "- In 2011, the Bahrain Grand Prix was canceled due to the Bahraini uprising during the Arab Spring protest;\n",
    "- In 2022, the Russian Grand Prix was canceled following the Russian invasion of Ukraine;\n",
    "- In 2023, the Emilia-Romagna Grand Prix at Imola was canceled due to sever flooding in the region.\n",
    "\n",
    "Unfortunately, many of these cancellations are not always reflected in the data, as they are often replaced by other Grand Prix events during the season."
   ]
  },
  {
   "cell_type": "markdown",
   "id": "487f799d",
   "metadata": {},
   "source": [
    "### Races by Continent\n",
    "\n",
    "Having explored the overall trend in the number of Formula 1 races held each year, the next step is to delve deeper into the geographical distribution of these races. This analysis will focus on grouping the races by continent and year to identify regional trends and shifts in the F1 calendar.\n",
    "\n",
    "By examining the data continent-wise, the aim is not only to highlight which continents have historically hosted more races, but to provide also insights into how the global distribution of races has evolved, particularly during periods of significant calendar expansion.\n",
    "\n",
    "The dataframes used for this analysis are `circuits`, `countries_continents` and once again `races`."
   ]
  },
  {
   "cell_type": "code",
   "execution_count": 7,
   "id": "2f936534",
   "metadata": {},
   "outputs": [
    {
     "data": {
      "text/html": [
       "<div>\n",
       "<style scoped>\n",
       "    .dataframe tbody tr th:only-of-type {\n",
       "        vertical-align: middle;\n",
       "    }\n",
       "\n",
       "    .dataframe tbody tr th {\n",
       "        vertical-align: top;\n",
       "    }\n",
       "\n",
       "    .dataframe thead th {\n",
       "        text-align: right;\n",
       "    }\n",
       "</style>\n",
       "<table border=\"1\" class=\"dataframe\">\n",
       "  <thead>\n",
       "    <tr style=\"text-align: right;\">\n",
       "      <th></th>\n",
       "      <th>id</th>\n",
       "      <th>name</th>\n",
       "      <th>fullName</th>\n",
       "      <th>previousNames</th>\n",
       "      <th>type</th>\n",
       "      <th>placeName</th>\n",
       "      <th>countryId</th>\n",
       "      <th>latitude</th>\n",
       "      <th>longitude</th>\n",
       "      <th>totalRacesHeld</th>\n",
       "    </tr>\n",
       "  </thead>\n",
       "  <tbody>\n",
       "    <tr>\n",
       "      <th>0</th>\n",
       "      <td>adelaide</td>\n",
       "      <td>Adelaide</td>\n",
       "      <td>Adelaide Street Circuit</td>\n",
       "      <td>NaN</td>\n",
       "      <td>STREET</td>\n",
       "      <td>Adelaide</td>\n",
       "      <td>australia</td>\n",
       "      <td>-34.927222</td>\n",
       "      <td>138.617222</td>\n",
       "      <td>11</td>\n",
       "    </tr>\n",
       "    <tr>\n",
       "      <th>1</th>\n",
       "      <td>aida</td>\n",
       "      <td>Aida</td>\n",
       "      <td>Okayama International Circuit</td>\n",
       "      <td>TI Circuit Aida</td>\n",
       "      <td>RACE</td>\n",
       "      <td>Aida</td>\n",
       "      <td>japan</td>\n",
       "      <td>34.915000</td>\n",
       "      <td>134.221111</td>\n",
       "      <td>2</td>\n",
       "    </tr>\n",
       "    <tr>\n",
       "      <th>2</th>\n",
       "      <td>ain-diab</td>\n",
       "      <td>Ain-Diab</td>\n",
       "      <td>Ain-Diab Circuit</td>\n",
       "      <td>NaN</td>\n",
       "      <td>ROAD</td>\n",
       "      <td>Casablanca</td>\n",
       "      <td>morocco</td>\n",
       "      <td>33.578611</td>\n",
       "      <td>-7.687500</td>\n",
       "      <td>1</td>\n",
       "    </tr>\n",
       "    <tr>\n",
       "      <th>3</th>\n",
       "      <td>aintree</td>\n",
       "      <td>Aintree</td>\n",
       "      <td>Aintree Motor Racing Circuit</td>\n",
       "      <td>NaN</td>\n",
       "      <td>ROAD</td>\n",
       "      <td>Aintree</td>\n",
       "      <td>united-kingdom</td>\n",
       "      <td>53.476944</td>\n",
       "      <td>-2.940556</td>\n",
       "      <td>5</td>\n",
       "    </tr>\n",
       "    <tr>\n",
       "      <th>4</th>\n",
       "      <td>anderstorp</td>\n",
       "      <td>Anderstorp Raceway</td>\n",
       "      <td>Anderstorp Raceway</td>\n",
       "      <td>Scandinavian Raceway</td>\n",
       "      <td>RACE</td>\n",
       "      <td>Anderstorp</td>\n",
       "      <td>sweden</td>\n",
       "      <td>57.264167</td>\n",
       "      <td>13.601389</td>\n",
       "      <td>6</td>\n",
       "    </tr>\n",
       "  </tbody>\n",
       "</table>\n",
       "</div>"
      ],
      "text/plain": [
       "           id                name                       fullName  \\\n",
       "0    adelaide            Adelaide        Adelaide Street Circuit   \n",
       "1        aida                Aida  Okayama International Circuit   \n",
       "2    ain-diab            Ain-Diab               Ain-Diab Circuit   \n",
       "3     aintree             Aintree   Aintree Motor Racing Circuit   \n",
       "4  anderstorp  Anderstorp Raceway             Anderstorp Raceway   \n",
       "\n",
       "          previousNames    type   placeName       countryId   latitude  \\\n",
       "0                   NaN  STREET    Adelaide       australia -34.927222   \n",
       "1       TI Circuit Aida    RACE        Aida           japan  34.915000   \n",
       "2                   NaN    ROAD  Casablanca         morocco  33.578611   \n",
       "3                   NaN    ROAD     Aintree  united-kingdom  53.476944   \n",
       "4  Scandinavian Raceway    RACE  Anderstorp          sweden  57.264167   \n",
       "\n",
       "    longitude  totalRacesHeld  \n",
       "0  138.617222              11  \n",
       "1  134.221111               2  \n",
       "2   -7.687500               1  \n",
       "3   -2.940556               5  \n",
       "4   13.601389               6  "
      ]
     },
     "metadata": {},
     "output_type": "display_data"
    },
    {
     "name": "stdout",
     "output_type": "stream",
     "text": [
      "DataFrame Quality Check Summary\n",
      "----------------------------------------\n",
      "Number of rows: 77\n",
      "Number of columns: 10\n",
      "----------------------------------------\n",
      "Null values:\n",
      "previousNames    62\n",
      "dtype: int64\n"
     ]
    }
   ],
   "source": [
    "display(circuits.head())\n",
    "quality_check(circuits)"
   ]
  },
  {
   "cell_type": "code",
   "execution_count": 8,
   "id": "4ce059b6",
   "metadata": {},
   "outputs": [
    {
     "data": {
      "text/html": [
       "<div>\n",
       "<style scoped>\n",
       "    .dataframe tbody tr th:only-of-type {\n",
       "        vertical-align: middle;\n",
       "    }\n",
       "\n",
       "    .dataframe tbody tr th {\n",
       "        vertical-align: top;\n",
       "    }\n",
       "\n",
       "    .dataframe thead th {\n",
       "        text-align: right;\n",
       "    }\n",
       "</style>\n",
       "<table border=\"1\" class=\"dataframe\">\n",
       "  <thead>\n",
       "    <tr style=\"text-align: right;\">\n",
       "      <th></th>\n",
       "      <th>countryId</th>\n",
       "      <th>name_country</th>\n",
       "      <th>continentId</th>\n",
       "      <th>name_continent</th>\n",
       "    </tr>\n",
       "  </thead>\n",
       "  <tbody>\n",
       "    <tr>\n",
       "      <th>0</th>\n",
       "      <td>afghanistan</td>\n",
       "      <td>Afghanistan</td>\n",
       "      <td>asia</td>\n",
       "      <td>Asia</td>\n",
       "    </tr>\n",
       "    <tr>\n",
       "      <th>1</th>\n",
       "      <td>aland-islands</td>\n",
       "      <td>Åland Islands</td>\n",
       "      <td>europe</td>\n",
       "      <td>Europe</td>\n",
       "    </tr>\n",
       "    <tr>\n",
       "      <th>2</th>\n",
       "      <td>albania</td>\n",
       "      <td>Albania</td>\n",
       "      <td>europe</td>\n",
       "      <td>Europe</td>\n",
       "    </tr>\n",
       "    <tr>\n",
       "      <th>3</th>\n",
       "      <td>algeria</td>\n",
       "      <td>Algeria</td>\n",
       "      <td>africa</td>\n",
       "      <td>Africa</td>\n",
       "    </tr>\n",
       "    <tr>\n",
       "      <th>4</th>\n",
       "      <td>american-samoa</td>\n",
       "      <td>American Samoa</td>\n",
       "      <td>australia</td>\n",
       "      <td>Australia</td>\n",
       "    </tr>\n",
       "  </tbody>\n",
       "</table>\n",
       "</div>"
      ],
      "text/plain": [
       "        countryId    name_country continentId name_continent\n",
       "0     afghanistan     Afghanistan        asia           Asia\n",
       "1   aland-islands   Åland Islands      europe         Europe\n",
       "2         albania         Albania      europe         Europe\n",
       "3         algeria         Algeria      africa         Africa\n",
       "4  american-samoa  American Samoa   australia      Australia"
      ]
     },
     "metadata": {},
     "output_type": "display_data"
    },
    {
     "name": "stdout",
     "output_type": "stream",
     "text": [
      "DataFrame Quality Check Summary\n",
      "----------------------------------------\n",
      "Number of rows: 249\n",
      "Number of columns: 4\n",
      "----------------------------------------\n",
      "Null values: 0\n"
     ]
    }
   ],
   "source": [
    "display(countries_continents.head())\n",
    "quality_check(countries_continents)"
   ]
  },
  {
   "cell_type": "markdown",
   "id": "5987d88e",
   "metadata": {},
   "source": [
    "The `circuits` dataframe contains some null values, but the only column affected is the one for previous circuit names, which does not impact the analysis. Additionally, I noticed that Oceania is mistakenly referred to as Australia in the data, and I will correct this later in the code.\n",
    "\n",
    "Since the `races` dataframe has already been checked and presents no issues for the analysis, the next step is to join these dataframes. Following the merge, I will count and visualize the number of races held annually in each continent."
   ]
  },
  {
   "cell_type": "code",
   "execution_count": 9,
   "id": "96a4e7fd",
   "metadata": {},
   "outputs": [
    {
     "data": {
      "application/vnd.plotly.v1+json": {
       "config": {
        "plotlyServerURL": "https://plot.ly"
       },
       "data": [
        {
         "hovertemplate": "<b>%{fullData.name}</b><br>Number of Races: %{y}<extra></extra>",
         "legendgroup": "Africa",
         "line": {
          "color": "#636efa",
          "dash": "solid"
         },
         "marker": {
          "symbol": "circle"
         },
         "mode": "lines",
         "name": "Africa",
         "orientation": "v",
         "showlegend": true,
         "type": "scatter",
         "x": [
          1950,
          1951,
          1952,
          1953,
          1954,
          1955,
          1956,
          1957,
          1958,
          1959,
          1960,
          1961,
          1962,
          1963,
          1964,
          1965,
          1966,
          1967,
          1968,
          1969,
          1970,
          1971,
          1972,
          1973,
          1974,
          1975,
          1976,
          1977,
          1978,
          1979,
          1980,
          1981,
          1982,
          1983,
          1984,
          1985,
          1986,
          1987,
          1988,
          1989,
          1990,
          1991,
          1992,
          1993,
          1994,
          1995,
          1996,
          1997,
          1998,
          1999,
          2000,
          2001,
          2002,
          2003,
          2004,
          2005,
          2006,
          2007,
          2008,
          2009,
          2010,
          2011,
          2012,
          2013,
          2014,
          2015,
          2016,
          2017,
          2018,
          2019,
          2020,
          2021,
          2022,
          2023,
          2024
         ],
         "xaxis": "x",
         "y": [
          0,
          0,
          0,
          0,
          0,
          0,
          0,
          0,
          1,
          0,
          0,
          0,
          1,
          1,
          0,
          1,
          0,
          1,
          1,
          1,
          1,
          1,
          1,
          1,
          1,
          1,
          1,
          1,
          1,
          1,
          1,
          0,
          1,
          1,
          1,
          1,
          0,
          0,
          0,
          0,
          0,
          0,
          1,
          1,
          0,
          0,
          0,
          0,
          0,
          0,
          0,
          0,
          0,
          0,
          0,
          0,
          0,
          0,
          0,
          0,
          0,
          0,
          0,
          0,
          0,
          0,
          0,
          0,
          0,
          0,
          0,
          0,
          0,
          0,
          0
         ],
         "yaxis": "y"
        },
        {
         "hovertemplate": "<b>%{fullData.name}</b><br>Number of Races: %{y}<extra></extra>",
         "legendgroup": "Asia",
         "line": {
          "color": "#EF553B",
          "dash": "solid"
         },
         "marker": {
          "symbol": "circle"
         },
         "mode": "lines",
         "name": "Asia",
         "orientation": "v",
         "showlegend": true,
         "type": "scatter",
         "x": [
          1950,
          1951,
          1952,
          1953,
          1954,
          1955,
          1956,
          1957,
          1958,
          1959,
          1960,
          1961,
          1962,
          1963,
          1964,
          1965,
          1966,
          1967,
          1968,
          1969,
          1970,
          1971,
          1972,
          1973,
          1974,
          1975,
          1976,
          1977,
          1978,
          1979,
          1980,
          1981,
          1982,
          1983,
          1984,
          1985,
          1986,
          1987,
          1988,
          1989,
          1990,
          1991,
          1992,
          1993,
          1994,
          1995,
          1996,
          1997,
          1998,
          1999,
          2000,
          2001,
          2002,
          2003,
          2004,
          2005,
          2006,
          2007,
          2008,
          2009,
          2010,
          2011,
          2012,
          2013,
          2014,
          2015,
          2016,
          2017,
          2018,
          2019,
          2020,
          2021,
          2022,
          2023,
          2024
         ],
         "xaxis": "x",
         "y": [
          0,
          0,
          0,
          0,
          0,
          0,
          0,
          0,
          0,
          0,
          0,
          0,
          0,
          0,
          0,
          0,
          0,
          0,
          0,
          0,
          0,
          0,
          0,
          0,
          0,
          0,
          1,
          1,
          0,
          0,
          0,
          0,
          0,
          0,
          0,
          0,
          0,
          1,
          1,
          1,
          1,
          1,
          1,
          1,
          2,
          2,
          1,
          1,
          1,
          2,
          2,
          2,
          2,
          2,
          4,
          4,
          4,
          4,
          5,
          6,
          7,
          7,
          8,
          8,
          6,
          6,
          7,
          7,
          6,
          6,
          3,
          5,
          6,
          7,
          8
         ],
         "yaxis": "y"
        },
        {
         "hovertemplate": "<b>%{fullData.name}</b><br>Number of Races: %{y}<extra></extra>",
         "legendgroup": "Oceania",
         "line": {
          "color": "#00cc96",
          "dash": "solid"
         },
         "marker": {
          "symbol": "circle"
         },
         "mode": "lines",
         "name": "Oceania",
         "orientation": "v",
         "showlegend": true,
         "type": "scatter",
         "x": [
          1950,
          1951,
          1952,
          1953,
          1954,
          1955,
          1956,
          1957,
          1958,
          1959,
          1960,
          1961,
          1962,
          1963,
          1964,
          1965,
          1966,
          1967,
          1968,
          1969,
          1970,
          1971,
          1972,
          1973,
          1974,
          1975,
          1976,
          1977,
          1978,
          1979,
          1980,
          1981,
          1982,
          1983,
          1984,
          1985,
          1986,
          1987,
          1988,
          1989,
          1990,
          1991,
          1992,
          1993,
          1994,
          1995,
          1996,
          1997,
          1998,
          1999,
          2000,
          2001,
          2002,
          2003,
          2004,
          2005,
          2006,
          2007,
          2008,
          2009,
          2010,
          2011,
          2012,
          2013,
          2014,
          2015,
          2016,
          2017,
          2018,
          2019,
          2020,
          2021,
          2022,
          2023,
          2024
         ],
         "xaxis": "x",
         "y": [
          0,
          0,
          0,
          0,
          0,
          0,
          0,
          0,
          0,
          0,
          0,
          0,
          0,
          0,
          0,
          0,
          0,
          0,
          0,
          0,
          0,
          0,
          0,
          0,
          0,
          0,
          0,
          0,
          0,
          0,
          0,
          0,
          0,
          0,
          0,
          1,
          1,
          1,
          1,
          1,
          1,
          1,
          1,
          1,
          1,
          1,
          1,
          1,
          1,
          1,
          1,
          1,
          1,
          1,
          1,
          1,
          1,
          1,
          1,
          1,
          1,
          1,
          1,
          1,
          1,
          1,
          1,
          1,
          1,
          1,
          0,
          0,
          1,
          1,
          1
         ],
         "yaxis": "y"
        },
        {
         "hovertemplate": "<b>%{fullData.name}</b><br>Number of Races: %{y}<extra></extra>",
         "legendgroup": "Europe",
         "line": {
          "color": "#ab63fa",
          "dash": "solid"
         },
         "marker": {
          "symbol": "circle"
         },
         "mode": "lines",
         "name": "Europe",
         "orientation": "v",
         "showlegend": true,
         "type": "scatter",
         "x": [
          1950,
          1951,
          1952,
          1953,
          1954,
          1955,
          1956,
          1957,
          1958,
          1959,
          1960,
          1961,
          1962,
          1963,
          1964,
          1965,
          1966,
          1967,
          1968,
          1969,
          1970,
          1971,
          1972,
          1973,
          1974,
          1975,
          1976,
          1977,
          1978,
          1979,
          1980,
          1981,
          1982,
          1983,
          1984,
          1985,
          1986,
          1987,
          1988,
          1989,
          1990,
          1991,
          1992,
          1993,
          1994,
          1995,
          1996,
          1997,
          1998,
          1999,
          2000,
          2001,
          2002,
          2003,
          2004,
          2005,
          2006,
          2007,
          2008,
          2009,
          2010,
          2011,
          2012,
          2013,
          2014,
          2015,
          2016,
          2017,
          2018,
          2019,
          2020,
          2021,
          2022,
          2023,
          2024
         ],
         "xaxis": "x",
         "y": [
          6,
          7,
          7,
          7,
          7,
          5,
          6,
          6,
          8,
          7,
          7,
          7,
          7,
          7,
          8,
          7,
          7,
          7,
          8,
          7,
          9,
          8,
          8,
          10,
          10,
          10,
          10,
          10,
          10,
          9,
          8,
          10,
          10,
          10,
          11,
          11,
          11,
          11,
          10,
          10,
          10,
          10,
          10,
          11,
          11,
          11,
          11,
          12,
          11,
          11,
          11,
          11,
          11,
          10,
          10,
          11,
          10,
          9,
          10,
          9,
          9,
          9,
          8,
          7,
          9,
          8,
          9,
          8,
          10,
          10,
          14,
          14,
          10,
          8,
          9
         ],
         "yaxis": "y"
        },
        {
         "hovertemplate": "<b>%{fullData.name}</b><br>Number of Races: %{y}<extra></extra>",
         "legendgroup": "North America",
         "line": {
          "color": "#FFA15A",
          "dash": "solid"
         },
         "marker": {
          "symbol": "circle"
         },
         "mode": "lines",
         "name": "North America",
         "orientation": "v",
         "showlegend": true,
         "type": "scatter",
         "x": [
          1950,
          1951,
          1952,
          1953,
          1954,
          1955,
          1956,
          1957,
          1958,
          1959,
          1960,
          1961,
          1962,
          1963,
          1964,
          1965,
          1966,
          1967,
          1968,
          1969,
          1970,
          1971,
          1972,
          1973,
          1974,
          1975,
          1976,
          1977,
          1978,
          1979,
          1980,
          1981,
          1982,
          1983,
          1984,
          1985,
          1986,
          1987,
          1988,
          1989,
          1990,
          1991,
          1992,
          1993,
          1994,
          1995,
          1996,
          1997,
          1998,
          1999,
          2000,
          2001,
          2002,
          2003,
          2004,
          2005,
          2006,
          2007,
          2008,
          2009,
          2010,
          2011,
          2012,
          2013,
          2014,
          2015,
          2016,
          2017,
          2018,
          2019,
          2020,
          2021,
          2022,
          2023,
          2024
         ],
         "xaxis": "x",
         "y": [
          1,
          1,
          1,
          1,
          1,
          1,
          1,
          1,
          1,
          2,
          2,
          1,
          1,
          2,
          2,
          2,
          2,
          3,
          3,
          3,
          3,
          2,
          2,
          2,
          2,
          1,
          3,
          3,
          3,
          3,
          3,
          3,
          4,
          3,
          3,
          2,
          3,
          2,
          3,
          3,
          3,
          3,
          2,
          1,
          1,
          1,
          1,
          1,
          1,
          1,
          2,
          2,
          2,
          2,
          2,
          2,
          2,
          2,
          1,
          0,
          1,
          1,
          2,
          2,
          2,
          3,
          3,
          3,
          3,
          3,
          0,
          2,
          4,
          5,
          5
         ],
         "yaxis": "y"
        },
        {
         "hovertemplate": "<b>%{fullData.name}</b><br>Number of Races: %{y}<extra></extra>",
         "legendgroup": "South America",
         "line": {
          "color": "#19d3f3",
          "dash": "solid"
         },
         "marker": {
          "symbol": "circle"
         },
         "mode": "lines",
         "name": "South America",
         "orientation": "v",
         "showlegend": true,
         "type": "scatter",
         "x": [
          1950,
          1951,
          1952,
          1953,
          1954,
          1955,
          1956,
          1957,
          1958,
          1959,
          1960,
          1961,
          1962,
          1963,
          1964,
          1965,
          1966,
          1967,
          1968,
          1969,
          1970,
          1971,
          1972,
          1973,
          1974,
          1975,
          1976,
          1977,
          1978,
          1979,
          1980,
          1981,
          1982,
          1983,
          1984,
          1985,
          1986,
          1987,
          1988,
          1989,
          1990,
          1991,
          1992,
          1993,
          1994,
          1995,
          1996,
          1997,
          1998,
          1999,
          2000,
          2001,
          2002,
          2003,
          2004,
          2005,
          2006,
          2007,
          2008,
          2009,
          2010,
          2011,
          2012,
          2013,
          2014,
          2015,
          2016,
          2017,
          2018,
          2019,
          2020,
          2021,
          2022,
          2023,
          2024
         ],
         "xaxis": "x",
         "y": [
          0,
          0,
          0,
          1,
          1,
          1,
          1,
          1,
          1,
          0,
          1,
          0,
          0,
          0,
          0,
          0,
          0,
          0,
          0,
          0,
          0,
          0,
          1,
          2,
          2,
          2,
          1,
          2,
          2,
          2,
          2,
          2,
          1,
          1,
          1,
          1,
          1,
          1,
          1,
          1,
          1,
          1,
          1,
          1,
          1,
          2,
          2,
          2,
          2,
          1,
          1,
          1,
          1,
          1,
          1,
          1,
          1,
          1,
          1,
          1,
          1,
          1,
          1,
          1,
          1,
          1,
          1,
          1,
          1,
          1,
          0,
          1,
          1,
          1,
          1
         ],
         "yaxis": "y"
        }
       ],
       "layout": {
        "height": 500,
        "hoverlabel": {
         "bgcolor": "rgba(255, 255, 255, 0.8)",
         "font": {
          "size": 12
         }
        },
        "hovermode": "x unified",
        "legend": {
         "title": {
          "text": "Continent"
         },
         "tracegroupgap": 0
        },
        "margin": {
         "t": 60
        },
        "template": {
         "data": {
          "bar": [
           {
            "error_x": {
             "color": "#2a3f5f"
            },
            "error_y": {
             "color": "#2a3f5f"
            },
            "marker": {
             "line": {
              "color": "#E5ECF6",
              "width": 0.5
             },
             "pattern": {
              "fillmode": "overlay",
              "size": 10,
              "solidity": 0.2
             }
            },
            "type": "bar"
           }
          ],
          "barpolar": [
           {
            "marker": {
             "line": {
              "color": "#E5ECF6",
              "width": 0.5
             },
             "pattern": {
              "fillmode": "overlay",
              "size": 10,
              "solidity": 0.2
             }
            },
            "type": "barpolar"
           }
          ],
          "carpet": [
           {
            "aaxis": {
             "endlinecolor": "#2a3f5f",
             "gridcolor": "white",
             "linecolor": "white",
             "minorgridcolor": "white",
             "startlinecolor": "#2a3f5f"
            },
            "baxis": {
             "endlinecolor": "#2a3f5f",
             "gridcolor": "white",
             "linecolor": "white",
             "minorgridcolor": "white",
             "startlinecolor": "#2a3f5f"
            },
            "type": "carpet"
           }
          ],
          "choropleth": [
           {
            "colorbar": {
             "outlinewidth": 0,
             "ticks": ""
            },
            "type": "choropleth"
           }
          ],
          "contour": [
           {
            "colorbar": {
             "outlinewidth": 0,
             "ticks": ""
            },
            "colorscale": [
             [
              0,
              "#0d0887"
             ],
             [
              0.1111111111111111,
              "#46039f"
             ],
             [
              0.2222222222222222,
              "#7201a8"
             ],
             [
              0.3333333333333333,
              "#9c179e"
             ],
             [
              0.4444444444444444,
              "#bd3786"
             ],
             [
              0.5555555555555556,
              "#d8576b"
             ],
             [
              0.6666666666666666,
              "#ed7953"
             ],
             [
              0.7777777777777778,
              "#fb9f3a"
             ],
             [
              0.8888888888888888,
              "#fdca26"
             ],
             [
              1,
              "#f0f921"
             ]
            ],
            "type": "contour"
           }
          ],
          "contourcarpet": [
           {
            "colorbar": {
             "outlinewidth": 0,
             "ticks": ""
            },
            "type": "contourcarpet"
           }
          ],
          "heatmap": [
           {
            "colorbar": {
             "outlinewidth": 0,
             "ticks": ""
            },
            "colorscale": [
             [
              0,
              "#0d0887"
             ],
             [
              0.1111111111111111,
              "#46039f"
             ],
             [
              0.2222222222222222,
              "#7201a8"
             ],
             [
              0.3333333333333333,
              "#9c179e"
             ],
             [
              0.4444444444444444,
              "#bd3786"
             ],
             [
              0.5555555555555556,
              "#d8576b"
             ],
             [
              0.6666666666666666,
              "#ed7953"
             ],
             [
              0.7777777777777778,
              "#fb9f3a"
             ],
             [
              0.8888888888888888,
              "#fdca26"
             ],
             [
              1,
              "#f0f921"
             ]
            ],
            "type": "heatmap"
           }
          ],
          "heatmapgl": [
           {
            "colorbar": {
             "outlinewidth": 0,
             "ticks": ""
            },
            "colorscale": [
             [
              0,
              "#0d0887"
             ],
             [
              0.1111111111111111,
              "#46039f"
             ],
             [
              0.2222222222222222,
              "#7201a8"
             ],
             [
              0.3333333333333333,
              "#9c179e"
             ],
             [
              0.4444444444444444,
              "#bd3786"
             ],
             [
              0.5555555555555556,
              "#d8576b"
             ],
             [
              0.6666666666666666,
              "#ed7953"
             ],
             [
              0.7777777777777778,
              "#fb9f3a"
             ],
             [
              0.8888888888888888,
              "#fdca26"
             ],
             [
              1,
              "#f0f921"
             ]
            ],
            "type": "heatmapgl"
           }
          ],
          "histogram": [
           {
            "marker": {
             "pattern": {
              "fillmode": "overlay",
              "size": 10,
              "solidity": 0.2
             }
            },
            "type": "histogram"
           }
          ],
          "histogram2d": [
           {
            "colorbar": {
             "outlinewidth": 0,
             "ticks": ""
            },
            "colorscale": [
             [
              0,
              "#0d0887"
             ],
             [
              0.1111111111111111,
              "#46039f"
             ],
             [
              0.2222222222222222,
              "#7201a8"
             ],
             [
              0.3333333333333333,
              "#9c179e"
             ],
             [
              0.4444444444444444,
              "#bd3786"
             ],
             [
              0.5555555555555556,
              "#d8576b"
             ],
             [
              0.6666666666666666,
              "#ed7953"
             ],
             [
              0.7777777777777778,
              "#fb9f3a"
             ],
             [
              0.8888888888888888,
              "#fdca26"
             ],
             [
              1,
              "#f0f921"
             ]
            ],
            "type": "histogram2d"
           }
          ],
          "histogram2dcontour": [
           {
            "colorbar": {
             "outlinewidth": 0,
             "ticks": ""
            },
            "colorscale": [
             [
              0,
              "#0d0887"
             ],
             [
              0.1111111111111111,
              "#46039f"
             ],
             [
              0.2222222222222222,
              "#7201a8"
             ],
             [
              0.3333333333333333,
              "#9c179e"
             ],
             [
              0.4444444444444444,
              "#bd3786"
             ],
             [
              0.5555555555555556,
              "#d8576b"
             ],
             [
              0.6666666666666666,
              "#ed7953"
             ],
             [
              0.7777777777777778,
              "#fb9f3a"
             ],
             [
              0.8888888888888888,
              "#fdca26"
             ],
             [
              1,
              "#f0f921"
             ]
            ],
            "type": "histogram2dcontour"
           }
          ],
          "mesh3d": [
           {
            "colorbar": {
             "outlinewidth": 0,
             "ticks": ""
            },
            "type": "mesh3d"
           }
          ],
          "parcoords": [
           {
            "line": {
             "colorbar": {
              "outlinewidth": 0,
              "ticks": ""
             }
            },
            "type": "parcoords"
           }
          ],
          "pie": [
           {
            "automargin": true,
            "type": "pie"
           }
          ],
          "scatter": [
           {
            "fillpattern": {
             "fillmode": "overlay",
             "size": 10,
             "solidity": 0.2
            },
            "type": "scatter"
           }
          ],
          "scatter3d": [
           {
            "line": {
             "colorbar": {
              "outlinewidth": 0,
              "ticks": ""
             }
            },
            "marker": {
             "colorbar": {
              "outlinewidth": 0,
              "ticks": ""
             }
            },
            "type": "scatter3d"
           }
          ],
          "scattercarpet": [
           {
            "marker": {
             "colorbar": {
              "outlinewidth": 0,
              "ticks": ""
             }
            },
            "type": "scattercarpet"
           }
          ],
          "scattergeo": [
           {
            "marker": {
             "colorbar": {
              "outlinewidth": 0,
              "ticks": ""
             }
            },
            "type": "scattergeo"
           }
          ],
          "scattergl": [
           {
            "marker": {
             "colorbar": {
              "outlinewidth": 0,
              "ticks": ""
             }
            },
            "type": "scattergl"
           }
          ],
          "scattermapbox": [
           {
            "marker": {
             "colorbar": {
              "outlinewidth": 0,
              "ticks": ""
             }
            },
            "type": "scattermapbox"
           }
          ],
          "scatterpolar": [
           {
            "marker": {
             "colorbar": {
              "outlinewidth": 0,
              "ticks": ""
             }
            },
            "type": "scatterpolar"
           }
          ],
          "scatterpolargl": [
           {
            "marker": {
             "colorbar": {
              "outlinewidth": 0,
              "ticks": ""
             }
            },
            "type": "scatterpolargl"
           }
          ],
          "scatterternary": [
           {
            "marker": {
             "colorbar": {
              "outlinewidth": 0,
              "ticks": ""
             }
            },
            "type": "scatterternary"
           }
          ],
          "surface": [
           {
            "colorbar": {
             "outlinewidth": 0,
             "ticks": ""
            },
            "colorscale": [
             [
              0,
              "#0d0887"
             ],
             [
              0.1111111111111111,
              "#46039f"
             ],
             [
              0.2222222222222222,
              "#7201a8"
             ],
             [
              0.3333333333333333,
              "#9c179e"
             ],
             [
              0.4444444444444444,
              "#bd3786"
             ],
             [
              0.5555555555555556,
              "#d8576b"
             ],
             [
              0.6666666666666666,
              "#ed7953"
             ],
             [
              0.7777777777777778,
              "#fb9f3a"
             ],
             [
              0.8888888888888888,
              "#fdca26"
             ],
             [
              1,
              "#f0f921"
             ]
            ],
            "type": "surface"
           }
          ],
          "table": [
           {
            "cells": {
             "fill": {
              "color": "#EBF0F8"
             },
             "line": {
              "color": "white"
             }
            },
            "header": {
             "fill": {
              "color": "#C8D4E3"
             },
             "line": {
              "color": "white"
             }
            },
            "type": "table"
           }
          ]
         },
         "layout": {
          "annotationdefaults": {
           "arrowcolor": "#2a3f5f",
           "arrowhead": 0,
           "arrowwidth": 1
          },
          "autotypenumbers": "strict",
          "coloraxis": {
           "colorbar": {
            "outlinewidth": 0,
            "ticks": ""
           }
          },
          "colorscale": {
           "diverging": [
            [
             0,
             "#8e0152"
            ],
            [
             0.1,
             "#c51b7d"
            ],
            [
             0.2,
             "#de77ae"
            ],
            [
             0.3,
             "#f1b6da"
            ],
            [
             0.4,
             "#fde0ef"
            ],
            [
             0.5,
             "#f7f7f7"
            ],
            [
             0.6,
             "#e6f5d0"
            ],
            [
             0.7,
             "#b8e186"
            ],
            [
             0.8,
             "#7fbc41"
            ],
            [
             0.9,
             "#4d9221"
            ],
            [
             1,
             "#276419"
            ]
           ],
           "sequential": [
            [
             0,
             "#0d0887"
            ],
            [
             0.1111111111111111,
             "#46039f"
            ],
            [
             0.2222222222222222,
             "#7201a8"
            ],
            [
             0.3333333333333333,
             "#9c179e"
            ],
            [
             0.4444444444444444,
             "#bd3786"
            ],
            [
             0.5555555555555556,
             "#d8576b"
            ],
            [
             0.6666666666666666,
             "#ed7953"
            ],
            [
             0.7777777777777778,
             "#fb9f3a"
            ],
            [
             0.8888888888888888,
             "#fdca26"
            ],
            [
             1,
             "#f0f921"
            ]
           ],
           "sequentialminus": [
            [
             0,
             "#0d0887"
            ],
            [
             0.1111111111111111,
             "#46039f"
            ],
            [
             0.2222222222222222,
             "#7201a8"
            ],
            [
             0.3333333333333333,
             "#9c179e"
            ],
            [
             0.4444444444444444,
             "#bd3786"
            ],
            [
             0.5555555555555556,
             "#d8576b"
            ],
            [
             0.6666666666666666,
             "#ed7953"
            ],
            [
             0.7777777777777778,
             "#fb9f3a"
            ],
            [
             0.8888888888888888,
             "#fdca26"
            ],
            [
             1,
             "#f0f921"
            ]
           ]
          },
          "colorway": [
           "#636efa",
           "#EF553B",
           "#00cc96",
           "#ab63fa",
           "#FFA15A",
           "#19d3f3",
           "#FF6692",
           "#B6E880",
           "#FF97FF",
           "#FECB52"
          ],
          "font": {
           "color": "#2a3f5f"
          },
          "geo": {
           "bgcolor": "white",
           "lakecolor": "white",
           "landcolor": "#E5ECF6",
           "showlakes": true,
           "showland": true,
           "subunitcolor": "white"
          },
          "hoverlabel": {
           "align": "left"
          },
          "hovermode": "closest",
          "mapbox": {
           "style": "light"
          },
          "paper_bgcolor": "white",
          "plot_bgcolor": "#E5ECF6",
          "polar": {
           "angularaxis": {
            "gridcolor": "white",
            "linecolor": "white",
            "ticks": ""
           },
           "bgcolor": "#E5ECF6",
           "radialaxis": {
            "gridcolor": "white",
            "linecolor": "white",
            "ticks": ""
           }
          },
          "scene": {
           "xaxis": {
            "backgroundcolor": "#E5ECF6",
            "gridcolor": "white",
            "gridwidth": 2,
            "linecolor": "white",
            "showbackground": true,
            "ticks": "",
            "zerolinecolor": "white"
           },
           "yaxis": {
            "backgroundcolor": "#E5ECF6",
            "gridcolor": "white",
            "gridwidth": 2,
            "linecolor": "white",
            "showbackground": true,
            "ticks": "",
            "zerolinecolor": "white"
           },
           "zaxis": {
            "backgroundcolor": "#E5ECF6",
            "gridcolor": "white",
            "gridwidth": 2,
            "linecolor": "white",
            "showbackground": true,
            "ticks": "",
            "zerolinecolor": "white"
           }
          },
          "shapedefaults": {
           "line": {
            "color": "#2a3f5f"
           }
          },
          "ternary": {
           "aaxis": {
            "gridcolor": "white",
            "linecolor": "white",
            "ticks": ""
           },
           "baxis": {
            "gridcolor": "white",
            "linecolor": "white",
            "ticks": ""
           },
           "bgcolor": "#E5ECF6",
           "caxis": {
            "gridcolor": "white",
            "linecolor": "white",
            "ticks": ""
           }
          },
          "title": {
           "x": 0.05
          },
          "xaxis": {
           "automargin": true,
           "gridcolor": "white",
           "linecolor": "white",
           "ticks": "",
           "title": {
            "standoff": 15
           },
           "zerolinecolor": "white",
           "zerolinewidth": 2
          },
          "yaxis": {
           "automargin": true,
           "gridcolor": "white",
           "linecolor": "white",
           "ticks": "",
           "title": {
            "standoff": 15
           },
           "zerolinecolor": "white",
           "zerolinewidth": 2
          }
         }
        },
        "title": {
         "font": {
          "size": 20
         },
         "text": "Number of F1 Races Over the Years by Continent",
         "x": 0.5
        },
        "width": 1500,
        "xaxis": {
         "anchor": "y",
         "domain": [
          0,
          1
         ],
         "dtick": 5,
         "range": [
          1950,
          2025
         ],
         "title": {
          "text": "Year"
         }
        },
        "yaxis": {
         "anchor": "x",
         "domain": [
          0,
          1
         ],
         "dtick": 4,
         "tickmode": "linear",
         "title": {
          "text": "Number of Races"
         }
        }
       }
      }
     },
     "metadata": {},
     "output_type": "display_data"
    },
    {
     "data": {
      "image/png": "[encoded data removed]",
      "text/plain": [
       "<IPython.core.display.Image object>"
      ]
     },
     "metadata": {},
     "output_type": "display_data"
    }
   ],
   "source": [
    "# Merge circuits with countries_continents to get the continent for each circuit\n",
    "circuits_continent = pd.merge(\n",
    "    circuits[['id', 'countryId']],\n",
    "    countries_continents[['countryId', 'name_continent']],\n",
    "    on='countryId',\n",
    "    how='left')\n",
    "\n",
    "# Merge circuits_continent with races to associate races with their continents\n",
    "races_continent = pd.merge(\n",
    "    circuits_continent[['id', 'name_continent']],\n",
    "    races[['year', 'circuitId']],\n",
    "    left_on='id', right_on='circuitId',\n",
    "    how='left')\n",
    "\n",
    "races_continent_pivot = pd.pivot_table(\n",
    "    data=races_continent,\n",
    "    index='year',\n",
    "    columns='name_continent',\n",
    "    aggfunc='size',\n",
    "    fill_value=0)\n",
    "\n",
    "races_continent_flat = races_continent_pivot.rename(columns={'Australia':'Oceania'}).reset_index()\n",
    "\n",
    "races_year_continent_fig = px.line(\n",
    "    data_frame=races_continent_flat,\n",
    "    x='year',\n",
    "    y=races_continent_flat.columns[1:],\n",
    "    labels={'year':'Year', 'value':'Number of Races', 'variable':'Continent'},\n",
    "    height=500,\n",
    "    width=1500)\n",
    "\n",
    "races_year_continent_fig.update_layout(\n",
    "    title=dict(\n",
    "        text='Number of F1 Races Over the Years by Continent',\n",
    "        x=0.5,\n",
    "        font=dict(size=20)),\n",
    "    xaxis=dict(\n",
    "        dtick=5,\n",
    "        range=[races_continent_flat['year'].min(), races_continent_flat['year'].max() + 1]\n",
    "        ),\n",
    "    yaxis=dict(\n",
    "        tickmode='linear',\n",
    "        dtick=4\n",
    "        ),\n",
    "    hovermode='x unified',\n",
    "    hoverlabel=dict(\n",
    "        font=dict(size=12),\n",
    "        bgcolor='rgba(255, 255, 255, 0.8)'\n",
    "        ))\n",
    "\n",
    "races_year_continent_fig.update_traces(\n",
    "    hovertemplate='<b>%{fullData.name}</b><br>' +\n",
    "                'Number of Races: %{y}<extra></extra>')\n",
    "\n",
    "races_year_continent_fig.show()\n",
    "\n",
    "pio.write_image(races_year_continent_fig, image_path+'races_year_continent.png', width=1500, height=500)\n",
    "display(Image(filename=image_path+'races_year_continent.png'))"
   ]
  },
  {
   "cell_type": "markdown",
   "id": "f7f76542",
   "metadata": {},
   "source": [
    "Building on the earlier analysis of F1 races over the years, examining the data by continent offers a nuanced understanding of the sport's global dynamics and of the trends previously observed.\n",
    "\n",
    "#### Europe\n",
    "Europe has consistently dominated the F1 calendar, reflecting its central role in the sport's development, its position as the primary market, and its substantial influence. This dominance is not surprising given Europe's historical involvement in F1, with most teams, iconic circuits, and many of the sport’s most famous and successful drivers hailing from Europe.\n",
    "\n",
    "However, the data also reveals that other regions, particularly Asia and, to a lesser extent, North America, have begun to challenge this long-standing supremacy.\n",
    "\n",
    "#### Asia\n",
    "Previously, it was noted that the turn of the millennium marked a resurgence in F1 races. Now, it becomes clear that Asia was the primary beneficiary of this expansion, transitioning from minimal or no representation on the F1 calendar before the 2000s, to becoming a key player in the new millennium. This growth can be attributed to substantial investments and partnerships from emerging markets in the region, particularly China and the Middle East.\n",
    "\n",
    "By 2012, the number of races in Asia equaled that of Europe, and in 2013, Asia even surpassed Europe for the first and only time as the continent with most races. Although Europe regained the lead the following year, Asia's presence on the F1 calendar has continued to grow since 2020, narrowing the gap with the Old Continent. The once-emerging markets in Asia have now matured significantly, solidifying their positions as major players in the F1 landscape.\n",
    "\n",
    "#### North America\n",
    "Despite being one of the wealthiest continents with a rich motor-sport tradition, North America's presence in F1 has been relatively minimal until recently. Starting with just one race in the inaugural season of F1, the number of North American races has since fluctuated between one and three per seasons over the decades, peaking at four in 1982. While motor-sport has always been popular in the region, the data confirms that American audiences have traditionally favored domestic series like IndyCar, which bears similarities to F1.\n",
    "\n",
    "In recent years, however, this trend has shifted: by 2022, North America once again reached its 1982 peak of four races, increasing to five by 2023 and 2024. This upward trajectory is likely to continue, driven by ongoing negotiations for additional races on the continent. North America's growing interest in F1 can be attributed to various factors, such as a rise in American viewership, sparked by the success of the Netflix series *Drive to Survive*, and the entry of Haas into F1 in 2016, marking the return of an American team to the grid after more than two decades. More notably, Liberty Media, an american mass media company, acquired the Formula One Group in 2017 and has since been responsible for promoting the F1 World Championship and overseeing the sport’s commercial rights.\n",
    "\n",
    "#### Race Distribution: A New Perspective on Previous Findings\n",
    "A pattern missing from this more granular analysis is the plateau observed between the 1980s and the early 2000s. Rather than a long period of stability, the data reveals minor fluctuations between regions, with continents seemingly exchanging race slots over time. As mentioned previously, stricter safety and cost regulations were introduced in the 1980s and 1990s, limiting the potential for a significant calendar expansion. Additionally, F1 management sought to maintain a balance between established markets like Europe and North America, and emerging regions. What initially appeared to be a static period in terms of total race numbers was actually a deliberate effort to balance the calendar, by redistributing races across different continents, while avoiding a dramatic increase in the total number of races (and associated costs) each season.\n",
    "\n",
    "As previously noted, the COVID-19 pandemic led to a drastic reduction in the number of races due to global travel restrictions and health concerns. This decline is still evident when examining the number of races over the years by continent, but interestingly, not for all regions.While most continents experienced a significant drop in the number of races, with many falling to zero (excluding Asia), Europe achieved a record high of 14 races, accounting for over 80% of the 17 races that year. This exceptional situation not only reinforces Europe’s central role in the sport but also but also highlights the importance of logistics in Formula 1. In fact, when considering the logistical complexities of hosting a Grand Prix, it becomes clear why Europe has historically been the stronghold of Formula 1: drivers and cars travel alongside teams of engineers and mechanics, as well as specialized equipment and car parts. With most constructors based in Europe, the shorter travel radius has consistently made it a logical choice to concentrate races in this region, especially during times of economic hardship or travel restrictions, such as those imposed during the COVID-19 pandemic.\n",
    "\n",
    "#### Africa, Oceania and South America\n",
    "Trends in these three continents are less pronounced and harder to discern due to the relatively smaller number of races held in these regions. Although their overall impact on the F1 calendar appears minimal compared to Europe, Asia, and North America, a more detailed visualization may uncover additional insights and provide a clearer understanding of the dynamics in these areas."
   ]
  },
  {
   "cell_type": "code",
   "execution_count": 11,
   "id": "ba5fe022",
   "metadata": {},
   "outputs": [
    {
     "data": {
      "application/vnd.plotly.v1+json": {
       "config": {
        "plotlyServerURL": "https://plot.ly"
       },
       "data": [
        {
         "hovertemplate": "<b>Year</b>: %{x}<br><b>Number of races</b>: %{y}<br><extra></extra>",
         "line": {
          "color": "blue"
         },
         "mode": "lines",
         "name": "Africa",
         "type": "scatter",
         "x": [
          1950,
          1951,
          1952,
          1953,
          1954,
          1955,
          1956,
          1957,
          1958,
          1959,
          1960,
          1961,
          1962,
          1963,
          1964,
          1965,
          1966,
          1967,
          1968,
          1969,
          1970,
          1971,
          1972,
          1973,
          1974,
          1975,
          1976,
          1977,
          1978,
          1979,
          1980,
          1981,
          1982,
          1983,
          1984,
          1985,
          1986,
          1987,
          1988,
          1989,
          1990,
          1991,
          1992,
          1993,
          1994,
          1995,
          1996,
          1997,
          1998,
          1999,
          2000,
          2001,
          2002,
          2003,
          2004,
          2005,
          2006,
          2007,
          2008,
          2009,
          2010,
          2011,
          2012,
          2013,
          2014,
          2015,
          2016,
          2017,
          2018,
          2019,
          2020,
          2021,
          2022,
          2023,
          2024
         ],
         "xaxis": "x",
         "y": [
          0,
          0,
          0,
          0,
          0,
          0,
          0,
          0,
          1,
          0,
          0,
          0,
          1,
          1,
          0,
          1,
          0,
          1,
          1,
          1,
          1,
          1,
          1,
          1,
          1,
          1,
          1,
          1,
          1,
          1,
          1,
          0,
          1,
          1,
          1,
          1,
          0,
          0,
          0,
          0,
          0,
          0,
          1,
          1,
          0,
          0,
          0,
          0,
          0,
          0,
          0,
          0,
          0,
          0,
          0,
          0,
          0,
          0,
          0,
          0,
          0,
          0,
          0,
          0,
          0,
          0,
          0,
          0,
          0,
          0,
          0,
          0,
          0,
          0,
          0
         ],
         "yaxis": "y"
        },
        {
         "hovertemplate": "<b>Year</b>: %{x}<br><b>Number of races</b>: %{y}<br><extra></extra>",
         "line": {
          "color": "green"
         },
         "mode": "lines",
         "name": "Oceania",
         "type": "scatter",
         "x": [
          1950,
          1951,
          1952,
          1953,
          1954,
          1955,
          1956,
          1957,
          1958,
          1959,
          1960,
          1961,
          1962,
          1963,
          1964,
          1965,
          1966,
          1967,
          1968,
          1969,
          1970,
          1971,
          1972,
          1973,
          1974,
          1975,
          1976,
          1977,
          1978,
          1979,
          1980,
          1981,
          1982,
          1983,
          1984,
          1985,
          1986,
          1987,
          1988,
          1989,
          1990,
          1991,
          1992,
          1993,
          1994,
          1995,
          1996,
          1997,
          1998,
          1999,
          2000,
          2001,
          2002,
          2003,
          2004,
          2005,
          2006,
          2007,
          2008,
          2009,
          2010,
          2011,
          2012,
          2013,
          2014,
          2015,
          2016,
          2017,
          2018,
          2019,
          2020,
          2021,
          2022,
          2023,
          2024
         ],
         "xaxis": "x2",
         "y": [
          0,
          0,
          0,
          0,
          0,
          0,
          0,
          0,
          0,
          0,
          0,
          0,
          0,
          0,
          0,
          0,
          0,
          0,
          0,
          0,
          0,
          0,
          0,
          0,
          0,
          0,
          0,
          0,
          0,
          0,
          0,
          0,
          0,
          0,
          0,
          1,
          1,
          1,
          1,
          1,
          1,
          1,
          1,
          1,
          1,
          1,
          1,
          1,
          1,
          1,
          1,
          1,
          1,
          1,
          1,
          1,
          1,
          1,
          1,
          1,
          1,
          1,
          1,
          1,
          1,
          1,
          1,
          1,
          1,
          1,
          0,
          0,
          1,
          1,
          1
         ],
         "yaxis": "y2"
        },
        {
         "hovertemplate": "<b>Year</b>: %{x}<br><b>Number of races</b>: %{y}<br><extra></extra>",
         "line": {
          "color": "#19d3f3"
         },
         "mode": "lines",
         "name": "South America",
         "type": "scatter",
         "x": [
          1950,
          1951,
          1952,
          1953,
          1954,
          1955,
          1956,
          1957,
          1958,
          1959,
          1960,
          1961,
          1962,
          1963,
          1964,
          1965,
          1966,
          1967,
          1968,
          1969,
          1970,
          1971,
          1972,
          1973,
          1974,
          1975,
          1976,
          1977,
          1978,
          1979,
          1980,
          1981,
          1982,
          1983,
          1984,
          1985,
          1986,
          1987,
          1988,
          1989,
          1990,
          1991,
          1992,
          1993,
          1994,
          1995,
          1996,
          1997,
          1998,
          1999,
          2000,
          2001,
          2002,
          2003,
          2004,
          2005,
          2006,
          2007,
          2008,
          2009,
          2010,
          2011,
          2012,
          2013,
          2014,
          2015,
          2016,
          2017,
          2018,
          2019,
          2020,
          2021,
          2022,
          2023,
          2024
         ],
         "xaxis": "x3",
         "y": [
          0,
          0,
          0,
          1,
          1,
          1,
          1,
          1,
          1,
          0,
          1,
          0,
          0,
          0,
          0,
          0,
          0,
          0,
          0,
          0,
          0,
          0,
          1,
          2,
          2,
          2,
          1,
          2,
          2,
          2,
          2,
          2,
          1,
          1,
          1,
          1,
          1,
          1,
          1,
          1,
          1,
          1,
          1,
          1,
          1,
          2,
          2,
          2,
          2,
          1,
          1,
          1,
          1,
          1,
          1,
          1,
          1,
          1,
          1,
          1,
          1,
          1,
          1,
          1,
          1,
          1,
          1,
          1,
          1,
          1,
          0,
          1,
          1,
          1,
          1
         ],
         "yaxis": "y3"
        }
       ],
       "layout": {
        "annotations": [
         {
          "font": {
           "size": 16
          },
          "showarrow": false,
          "text": "Africa",
          "x": 0.14444444444444446,
          "xanchor": "center",
          "xref": "paper",
          "y": 1,
          "yanchor": "bottom",
          "yref": "paper"
         },
         {
          "font": {
           "size": 16
          },
          "showarrow": false,
          "text": "Oceania",
          "x": 0.5,
          "xanchor": "center",
          "xref": "paper",
          "y": 1,
          "yanchor": "bottom",
          "yref": "paper"
         },
         {
          "font": {
           "size": 16
          },
          "showarrow": false,
          "text": "South America",
          "x": 0.8555555555555556,
          "xanchor": "center",
          "xref": "paper",
          "y": 1,
          "yanchor": "bottom",
          "yref": "paper"
         }
        ],
        "height": 500,
        "hoverlabel": {
         "bgcolor": "rgba(255, 255, 255, 0.8)",
         "font": {
          "size": 12
         }
        },
        "showlegend": false,
        "template": {
         "data": {
          "bar": [
           {
            "error_x": {
             "color": "#2a3f5f"
            },
            "error_y": {
             "color": "#2a3f5f"
            },
            "marker": {
             "line": {
              "color": "#E5ECF6",
              "width": 0.5
             },
             "pattern": {
              "fillmode": "overlay",
              "size": 10,
              "solidity": 0.2
             }
            },
            "type": "bar"
           }
          ],
          "barpolar": [
           {
            "marker": {
             "line": {
              "color": "#E5ECF6",
              "width": 0.5
             },
             "pattern": {
              "fillmode": "overlay",
              "size": 10,
              "solidity": 0.2
             }
            },
            "type": "barpolar"
           }
          ],
          "carpet": [
           {
            "aaxis": {
             "endlinecolor": "#2a3f5f",
             "gridcolor": "white",
             "linecolor": "white",
             "minorgridcolor": "white",
             "startlinecolor": "#2a3f5f"
            },
            "baxis": {
             "endlinecolor": "#2a3f5f",
             "gridcolor": "white",
             "linecolor": "white",
             "minorgridcolor": "white",
             "startlinecolor": "#2a3f5f"
            },
            "type": "carpet"
           }
          ],
          "choropleth": [
           {
            "colorbar": {
             "outlinewidth": 0,
             "ticks": ""
            },
            "type": "choropleth"
           }
          ],
          "contour": [
           {
            "colorbar": {
             "outlinewidth": 0,
             "ticks": ""
            },
            "colorscale": [
             [
              0,
              "#0d0887"
             ],
             [
              0.1111111111111111,
              "#46039f"
             ],
             [
              0.2222222222222222,
              "#7201a8"
             ],
             [
              0.3333333333333333,
              "#9c179e"
             ],
             [
              0.4444444444444444,
              "#bd3786"
             ],
             [
              0.5555555555555556,
              "#d8576b"
             ],
             [
              0.6666666666666666,
              "#ed7953"
             ],
             [
              0.7777777777777778,
              "#fb9f3a"
             ],
             [
              0.8888888888888888,
              "#fdca26"
             ],
             [
              1,
              "#f0f921"
             ]
            ],
            "type": "contour"
           }
          ],
          "contourcarpet": [
           {
            "colorbar": {
             "outlinewidth": 0,
             "ticks": ""
            },
            "type": "contourcarpet"
           }
          ],
          "heatmap": [
           {
            "colorbar": {
             "outlinewidth": 0,
             "ticks": ""
            },
            "colorscale": [
             [
              0,
              "#0d0887"
             ],
             [
              0.1111111111111111,
              "#46039f"
             ],
             [
              0.2222222222222222,
              "#7201a8"
             ],
             [
              0.3333333333333333,
              "#9c179e"
             ],
             [
              0.4444444444444444,
              "#bd3786"
             ],
             [
              0.5555555555555556,
              "#d8576b"
             ],
             [
              0.6666666666666666,
              "#ed7953"
             ],
             [
              0.7777777777777778,
              "#fb9f3a"
             ],
             [
              0.8888888888888888,
              "#fdca26"
             ],
             [
              1,
              "#f0f921"
             ]
            ],
            "type": "heatmap"
           }
          ],
          "heatmapgl": [
           {
            "colorbar": {
             "outlinewidth": 0,
             "ticks": ""
            },
            "colorscale": [
             [
              0,
              "#0d0887"
             ],
             [
              0.1111111111111111,
              "#46039f"
             ],
             [
              0.2222222222222222,
              "#7201a8"
             ],
             [
              0.3333333333333333,
              "#9c179e"
             ],
             [
              0.4444444444444444,
              "#bd3786"
             ],
             [
              0.5555555555555556,
              "#d8576b"
             ],
             [
              0.6666666666666666,
              "#ed7953"
             ],
             [
              0.7777777777777778,
              "#fb9f3a"
             ],
             [
              0.8888888888888888,
              "#fdca26"
             ],
             [
              1,
              "#f0f921"
             ]
            ],
            "type": "heatmapgl"
           }
          ],
          "histogram": [
           {
            "marker": {
             "pattern": {
              "fillmode": "overlay",
              "size": 10,
              "solidity": 0.2
             }
            },
            "type": "histogram"
           }
          ],
          "histogram2d": [
           {
            "colorbar": {
             "outlinewidth": 0,
             "ticks": ""
            },
            "colorscale": [
             [
              0,
              "#0d0887"
             ],
             [
              0.1111111111111111,
              "#46039f"
             ],
             [
              0.2222222222222222,
              "#7201a8"
             ],
             [
              0.3333333333333333,
              "#9c179e"
             ],
             [
              0.4444444444444444,
              "#bd3786"
             ],
             [
              0.5555555555555556,
              "#d8576b"
             ],
             [
              0.6666666666666666,
              "#ed7953"
             ],
             [
              0.7777777777777778,
              "#fb9f3a"
             ],
             [
              0.8888888888888888,
              "#fdca26"
             ],
             [
              1,
              "#f0f921"
             ]
            ],
            "type": "histogram2d"
           }
          ],
          "histogram2dcontour": [
           {
            "colorbar": {
             "outlinewidth": 0,
             "ticks": ""
            },
            "colorscale": [
             [
              0,
              "#0d0887"
             ],
             [
              0.1111111111111111,
              "#46039f"
             ],
             [
              0.2222222222222222,
              "#7201a8"
             ],
             [
              0.3333333333333333,
              "#9c179e"
             ],
             [
              0.4444444444444444,
              "#bd3786"
             ],
             [
              0.5555555555555556,
              "#d8576b"
             ],
             [
              0.6666666666666666,
              "#ed7953"
             ],
             [
              0.7777777777777778,
              "#fb9f3a"
             ],
             [
              0.8888888888888888,
              "#fdca26"
             ],
             [
              1,
              "#f0f921"
             ]
            ],
            "type": "histogram2dcontour"
           }
          ],
          "mesh3d": [
           {
            "colorbar": {
             "outlinewidth": 0,
             "ticks": ""
            },
            "type": "mesh3d"
           }
          ],
          "parcoords": [
           {
            "line": {
             "colorbar": {
              "outlinewidth": 0,
              "ticks": ""
             }
            },
            "type": "parcoords"
           }
          ],
          "pie": [
           {
            "automargin": true,
            "type": "pie"
           }
          ],
          "scatter": [
           {
            "fillpattern": {
             "fillmode": "overlay",
             "size": 10,
             "solidity": 0.2
            },
            "type": "scatter"
           }
          ],
          "scatter3d": [
           {
            "line": {
             "colorbar": {
              "outlinewidth": 0,
              "ticks": ""
             }
            },
            "marker": {
             "colorbar": {
              "outlinewidth": 0,
              "ticks": ""
             }
            },
            "type": "scatter3d"
           }
          ],
          "scattercarpet": [
           {
            "marker": {
             "colorbar": {
              "outlinewidth": 0,
              "ticks": ""
             }
            },
            "type": "scattercarpet"
           }
          ],
          "scattergeo": [
           {
            "marker": {
             "colorbar": {
              "outlinewidth": 0,
              "ticks": ""
             }
            },
            "type": "scattergeo"
           }
          ],
          "scattergl": [
           {
            "marker": {
             "colorbar": {
              "outlinewidth": 0,
              "ticks": ""
             }
            },
            "type": "scattergl"
           }
          ],
          "scattermapbox": [
           {
            "marker": {
             "colorbar": {
              "outlinewidth": 0,
              "ticks": ""
             }
            },
            "type": "scattermapbox"
           }
          ],
          "scatterpolar": [
           {
            "marker": {
             "colorbar": {
              "outlinewidth": 0,
              "ticks": ""
             }
            },
            "type": "scatterpolar"
           }
          ],
          "scatterpolargl": [
           {
            "marker": {
             "colorbar": {
              "outlinewidth": 0,
              "ticks": ""
             }
            },
            "type": "scatterpolargl"
           }
          ],
          "scatterternary": [
           {
            "marker": {
             "colorbar": {
              "outlinewidth": 0,
              "ticks": ""
             }
            },
            "type": "scatterternary"
           }
          ],
          "surface": [
           {
            "colorbar": {
             "outlinewidth": 0,
             "ticks": ""
            },
            "colorscale": [
             [
              0,
              "#0d0887"
             ],
             [
              0.1111111111111111,
              "#46039f"
             ],
             [
              0.2222222222222222,
              "#7201a8"
             ],
             [
              0.3333333333333333,
              "#9c179e"
             ],
             [
              0.4444444444444444,
              "#bd3786"
             ],
             [
              0.5555555555555556,
              "#d8576b"
             ],
             [
              0.6666666666666666,
              "#ed7953"
             ],
             [
              0.7777777777777778,
              "#fb9f3a"
             ],
             [
              0.8888888888888888,
              "#fdca26"
             ],
             [
              1,
              "#f0f921"
             ]
            ],
            "type": "surface"
           }
          ],
          "table": [
           {
            "cells": {
             "fill": {
              "color": "#EBF0F8"
             },
             "line": {
              "color": "white"
             }
            },
            "header": {
             "fill": {
              "color": "#C8D4E3"
             },
             "line": {
              "color": "white"
             }
            },
            "type": "table"
           }
          ]
         },
         "layout": {
          "annotationdefaults": {
           "arrowcolor": "#2a3f5f",
           "arrowhead": 0,
           "arrowwidth": 1
          },
          "autotypenumbers": "strict",
          "coloraxis": {
           "colorbar": {
            "outlinewidth": 0,
            "ticks": ""
           }
          },
          "colorscale": {
           "diverging": [
            [
             0,
             "#8e0152"
            ],
            [
             0.1,
             "#c51b7d"
            ],
            [
             0.2,
             "#de77ae"
            ],
            [
             0.3,
             "#f1b6da"
            ],
            [
             0.4,
             "#fde0ef"
            ],
            [
             0.5,
             "#f7f7f7"
            ],
            [
             0.6,
             "#e6f5d0"
            ],
            [
             0.7,
             "#b8e186"
            ],
            [
             0.8,
             "#7fbc41"
            ],
            [
             0.9,
             "#4d9221"
            ],
            [
             1,
             "#276419"
            ]
           ],
           "sequential": [
            [
             0,
             "#0d0887"
            ],
            [
             0.1111111111111111,
             "#46039f"
            ],
            [
             0.2222222222222222,
             "#7201a8"
            ],
            [
             0.3333333333333333,
             "#9c179e"
            ],
            [
             0.4444444444444444,
             "#bd3786"
            ],
            [
             0.5555555555555556,
             "#d8576b"
            ],
            [
             0.6666666666666666,
             "#ed7953"
            ],
            [
             0.7777777777777778,
             "#fb9f3a"
            ],
            [
             0.8888888888888888,
             "#fdca26"
            ],
            [
             1,
             "#f0f921"
            ]
           ],
           "sequentialminus": [
            [
             0,
             "#0d0887"
            ],
            [
             0.1111111111111111,
             "#46039f"
            ],
            [
             0.2222222222222222,
             "#7201a8"
            ],
            [
             0.3333333333333333,
             "#9c179e"
            ],
            [
             0.4444444444444444,
             "#bd3786"
            ],
            [
             0.5555555555555556,
             "#d8576b"
            ],
            [
             0.6666666666666666,
             "#ed7953"
            ],
            [
             0.7777777777777778,
             "#fb9f3a"
            ],
            [
             0.8888888888888888,
             "#fdca26"
            ],
            [
             1,
             "#f0f921"
            ]
           ]
          },
          "colorway": [
           "#636efa",
           "#EF553B",
           "#00cc96",
           "#ab63fa",
           "#FFA15A",
           "#19d3f3",
           "#FF6692",
           "#B6E880",
           "#FF97FF",
           "#FECB52"
          ],
          "font": {
           "color": "#2a3f5f"
          },
          "geo": {
           "bgcolor": "white",
           "lakecolor": "white",
           "landcolor": "#E5ECF6",
           "showlakes": true,
           "showland": true,
           "subunitcolor": "white"
          },
          "hoverlabel": {
           "align": "left"
          },
          "hovermode": "closest",
          "mapbox": {
           "style": "light"
          },
          "paper_bgcolor": "white",
          "plot_bgcolor": "#E5ECF6",
          "polar": {
           "angularaxis": {
            "gridcolor": "white",
            "linecolor": "white",
            "ticks": ""
           },
           "bgcolor": "#E5ECF6",
           "radialaxis": {
            "gridcolor": "white",
            "linecolor": "white",
            "ticks": ""
           }
          },
          "scene": {
           "xaxis": {
            "backgroundcolor": "#E5ECF6",
            "gridcolor": "white",
            "gridwidth": 2,
            "linecolor": "white",
            "showbackground": true,
            "ticks": "",
            "zerolinecolor": "white"
           },
           "yaxis": {
            "backgroundcolor": "#E5ECF6",
            "gridcolor": "white",
            "gridwidth": 2,
            "linecolor": "white",
            "showbackground": true,
            "ticks": "",
            "zerolinecolor": "white"
           },
           "zaxis": {
            "backgroundcolor": "#E5ECF6",
            "gridcolor": "white",
            "gridwidth": 2,
            "linecolor": "white",
            "showbackground": true,
            "ticks": "",
            "zerolinecolor": "white"
           }
          },
          "shapedefaults": {
           "line": {
            "color": "#2a3f5f"
           }
          },
          "ternary": {
           "aaxis": {
            "gridcolor": "white",
            "linecolor": "white",
            "ticks": ""
           },
           "baxis": {
            "gridcolor": "white",
            "linecolor": "white",
            "ticks": ""
           },
           "bgcolor": "#E5ECF6",
           "caxis": {
            "gridcolor": "white",
            "linecolor": "white",
            "ticks": ""
           }
          },
          "title": {
           "x": 0.05
          },
          "xaxis": {
           "automargin": true,
           "gridcolor": "white",
           "linecolor": "white",
           "ticks": "",
           "title": {
            "standoff": 15
           },
           "zerolinecolor": "white",
           "zerolinewidth": 2
          },
          "yaxis": {
           "automargin": true,
           "gridcolor": "white",
           "linecolor": "white",
           "ticks": "",
           "title": {
            "standoff": 15
           },
           "zerolinecolor": "white",
           "zerolinewidth": 2
          }
         }
        },
        "title": {
         "font": {
          "size": 20
         },
         "text": "Number of F1 Races Over the Years",
         "x": 0.5
        },
        "width": 2000,
        "xaxis": {
         "anchor": "y",
         "domain": [
          0,
          0.2888888888888889
         ],
         "dtick": 5,
         "range": [
          1950,
          2025
         ],
         "title": {
          "text": "Year"
         }
        },
        "xaxis2": {
         "anchor": "y2",
         "domain": [
          0.35555555555555557,
          0.6444444444444445
         ],
         "dtick": 5,
         "range": [
          1950,
          2025
         ],
         "title": {
          "text": "Year"
         }
        },
        "xaxis3": {
         "anchor": "y3",
         "domain": [
          0.7111111111111111,
          1
         ],
         "dtick": 5,
         "range": [
          1950,
          2025
         ],
         "title": {
          "text": "Year"
         }
        },
        "yaxis": {
         "anchor": "x",
         "domain": [
          0,
          1
         ],
         "range": [
          0,
          3
         ],
         "tickmode": "linear",
         "title": {
          "text": "Number of Races"
         }
        },
        "yaxis2": {
         "anchor": "x2",
         "domain": [
          0,
          1
         ],
         "range": [
          0,
          3
         ],
         "tickmode": "linear",
         "title": {
          "text": "Number of Races"
         }
        },
        "yaxis3": {
         "anchor": "x3",
         "domain": [
          0,
          1
         ],
         "range": [
          0,
          3
         ],
         "tickmode": "linear",
         "title": {
          "text": "Number of Races"
         }
        }
       }
      }
     },
     "metadata": {},
     "output_type": "display_data"
    },
    {
     "data": {
      "image/png": "[encoded data removed]",
      "text/plain": [
       "<IPython.core.display.Image object>"
      ]
     },
     "metadata": {},
     "output_type": "display_data"
    }
   ],
   "source": [
    "races_year_continent_detail_fig = make_subplots(rows=1, cols=3, subplot_titles=(\"Africa\", \"Oceania\", \"South America\"))\n",
    "\n",
    "races_year_continent_detail_fig.add_trace(\n",
    "    go.Scatter(\n",
    "        x=races_continent_flat['year'],\n",
    "        y=races_continent_flat['Africa'],\n",
    "        mode='lines', \n",
    "        name='Africa',\n",
    "        line=dict(color='blue'),\n",
    "    ),\n",
    "    row=1, col=1)\n",
    "\n",
    "races_year_continent_detail_fig.add_trace(\n",
    "    go.Scatter(\n",
    "        x=races_continent_flat['year'],\n",
    "        y=races_continent_flat['Oceania'],\n",
    "        mode='lines', \n",
    "        name='Oceania',\n",
    "        line=dict(color='green'),\n",
    "    ),\n",
    "    row=1, col=2)\n",
    "\n",
    "races_year_continent_detail_fig.add_trace(\n",
    "    go.Scatter(\n",
    "        x=races_continent_flat['year'],\n",
    "        y=races_continent_flat['South America'], \n",
    "        mode='lines', \n",
    "        name='South America',\n",
    "        line=dict(color='#19d3f3'),\n",
    "    ),\n",
    "    row=1, col=3)\n",
    "\n",
    "races_year_continent_detail_fig.update_layout(\n",
    "    title=dict(\n",
    "        text='Number of F1 Races Over the Years',\n",
    "        x=0.5,\n",
    "        font=dict(size=20)\n",
    "    ),\n",
    "    height=500,\n",
    "    width=2000,\n",
    "    showlegend=False,\n",
    "    hoverlabel=dict(\n",
    "        font=dict(size=12),\n",
    "        bgcolor='rgba(255, 255, 255, 0.8)'\n",
    "    ))\n",
    "\n",
    "races_year_continent_detail_fig.update_traces(\n",
    "    hovertemplate='<b>Year</b>: %{x}<br>' +\n",
    "                '<b>Number of races</b>: %{y}<br><extra></extra>')\n",
    "\n",
    "races_year_continent_detail_fig.update_xaxes(\n",
    "    dtick=5,\n",
    "    range=[races_continent_flat['year'].min(), races_continent_flat['year'].max() + 1],\n",
    "    title_text='Year')\n",
    "\n",
    "races_year_continent_detail_fig.update_yaxes(\n",
    "    tickmode='linear',\n",
    "    range=[0, 3],\n",
    "    title_text='Number of Races')\n",
    "\n",
    "races_year_continent_detail_fig.show()\n",
    "\n",
    "pio.write_image(races_year_continent_detail_fig, image_path+'races_year_continent_detail.png', width=2000, height=500)\n",
    "display(Image(filename=image_path+'races_year_continent_detail.png'))"
   ]
  },
  {
   "cell_type": "markdown",
   "id": "23a9bbd3",
   "metadata": {},
   "source": [
    "A few trends become clearer upon closer examination:\n",
    "- Africa hosted a single race per year between 1958 and 1993, though not consistently, with about 10 of those years without any races. Since 1994, there have been no Formula 1 events on the continent;\n",
    "- Oceania shows the most straightforward trend, joining the F1 calendar in 1985 with one race per year and continuining with one race per year to this day, with the only exceptions being the 2020 and 2021 seasons, likely due to the COVID-19 pandemic;\n",
    "- South America has been hosting one race a year since 1953, the very early days of Formula 1, sometimes 2 races a year between the 1970s and 1990s but also missing from the calendar for a long ten-year period from 1961 to 1971.\n",
    "\n",
    "Although these continents are vastly different, the low number or nonexistent number of races in each region likely points to a common factor: the substantial costs associated with hosting a Formula 1 Grand Prix, an especially high barrier for nations that struggle to attract corporate sponsorships. As discussed earlier, Formula 1 has historically focused on Europe, with a recent shift toward more commercially viable markets like Asia and North America, where revenue generation potential is stronger. This shift has often left Africa, Oceania, and South America with fewer opportunities, despite their motor-sport traditions and passionate fan bases, particularly in South America.\n",
    "\n",
    "Another potential factor is the availability of suitable circuits. The geography of these continents may not always lend itself to the development of top-tier race tracks, and any circuit would need to meet Formula 1's stringent standards. However, this argument seems weaker when considering that new tracks in places like the Middle East have been built in less favorable environments, such as deserts. Ultimately, the issue comes down to financial investment."
   ]
  }
 ],
 "metadata": {
  "kernelspec": {
   "display_name": "Python 3",
   "language": "python",
   "name": "python3"
  },
  "language_info": {
   "codemirror_mode": {
    "name": "ipython",
    "version": 3
   },
   "file_extension": ".py",
   "mimetype": "text/x-python",
   "name": "python",
   "nbconvert_exporter": "python",
   "pygments_lexer": "ipython3",
   "version": "3.12.4"
  },
  "panel-cell-order": [
   "ad55c717-89db-43e0-9af0-dda5ca97e43b"
  ]
 },
 "nbformat": 4,
 "nbformat_minor": 5
}
